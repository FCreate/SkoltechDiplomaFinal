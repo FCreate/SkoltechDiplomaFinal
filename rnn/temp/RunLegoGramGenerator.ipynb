{
 "cells": [
  {
   "cell_type": "code",
   "execution_count": 123,
   "metadata": {},
   "outputs": [],
   "source": [
    "import torch\n",
    "import pickle\n",
    "import numpy as np\n",
    "import time\n",
    "import os\n",
    "from shutil import copyfile\n",
    "\n",
    "from model_reinvent import RNN\n",
    "#from data_structs import Vocabulary, Experience\n",
    "#from scoring_functions import get_scoring_function\n",
    "from utils import Variable, seq_to_smiles, unique\n",
    "from vizard_logger import VizardLog\n",
    "import rdkit\n",
    "from rdkit.Chem.Crippen import MolLogP, MolMR\n",
    "from rdkit.Chem.Lipinski import  NumHAcceptors, NumHDonors\n",
    "from rdkit.Chem.rdMolDescriptors import CalcNumRings, CalcNumRotatableBonds, CalcExactMolWt\n",
    "from providers import robust_standardizer\n",
    "import requests\n",
    "from rdkit import Chem\n",
    "\n",
    "from legogram.legogram.base import LegoGram\n",
    "from legogram.legogram.rnn_sampler import LegoGramRNNSampler\n"
   ]
  },
  {
   "cell_type": "code",
   "execution_count": 131,
   "metadata": {},
   "outputs": [],
   "source": [
    "def scoring_func(smiles, loyality):\n",
    "    endpoints = requests.get(\"https://backend.syntelly.com/endpoints\").json()\n",
    "    endpoints_id2name = dict(zip([e['id'] for e in endpoints], [e['view'] for e in endpoints]))\n",
    "    vals_another = requests.post(\"https://backend.syntelly.com/tempSmilesArrToPredict\",\n",
    "                                 json={'smiles': smiles}).json()\n",
    "\n",
    "    for idx in range(len(vals_another)):\n",
    "        elem = vals_another[idx]['data']\n",
    "        for e in elem:\n",
    "            e[\"endpoint_id\"] = endpoints_id2name[e[\"endpoint_id\"]]\n",
    "    e2v = []\n",
    "    for idx in range(len(vals_another)):\n",
    "        e2v.append(dict(zip([e['endpoint_id'] for e in vals_another[idx]['data']],\n",
    "                            [e['value'] for e in vals_another[idx]['data']])))\n",
    "\n",
    "    smiles = [val['smiles'] for val in vals_another]\n",
    "    mols = [robust_standardizer(mol) for mol in smiles]\n",
    "    mols = [Chem.MolFromSmiles(mol) for mol in mols]\n",
    "    molecular_weights = [CalcExactMolWt(mol) for mol in mols]\n",
    "    logp = [MolLogP(mol) for mol in mols]\n",
    "    atom_count = [mol.GetNumAtoms() for mol in mols]\n",
    "    molar_reflactivity = [MolMR(mol) for mol in mols]\n",
    "    numRings = [CalcNumRings(mol) for mol in mols]\n",
    "    numRotBonds = [CalcNumRotatableBonds(mol) for mol in mols]\n",
    "    numHAcceptors = [NumHAcceptors(mol) for mol in mols]\n",
    "    numHDonors = [NumHDonors(mol) for mol in mols]\n",
    "    bcf = [e['Bioconcentration factor'] for e in e2v]\n",
    "    dev_tox = [e['Developmental toxicity'] for e in e2v]\n",
    "    flash_point = [e['Flash point'] for e in e2v]\n",
    "    boiling_point = [e['Boiling point'] for e in e2v]\n",
    "    melting_points = [e['Melting point'] for e in e2v]\n",
    "    water_solubility = [e['Water Solubility'] for e in e2v]\n",
    "\n",
    "    result = [1] * len(smiles)\n",
    "    for idx in range(len(smiles)):\n",
    "        val = 0\n",
    "        if (molecular_weights[idx] <= 480 and molecular_weights[idx] >= 160):\n",
    "            val += 1\n",
    "        if (logp[idx] <= 5.6 and logp[idx] >= -0.4):\n",
    "            val += 1\n",
    "        if (atom_count[idx] <= 70 and atom_count[idx] >= 20):\n",
    "            val += 1\n",
    "        if (molar_reflactivity[idx] >= 40 and molar_reflactivity[idx] <= 130):\n",
    "            val += 1\n",
    "        if (bcf[idx] < 3):\n",
    "            val += 1\n",
    "        if (dev_tox[idx] == 'Negative'):\n",
    "            val += 1\n",
    "        if (flash_point[idx] > (350 - 273.15)):\n",
    "            val += 1\n",
    "        if (boiling_point[idx] > (300 - 273.15)):\n",
    "            val += 1\n",
    "        if (numRings[idx] > 0):\n",
    "            val += 1\n",
    "        if (numRotBonds[idx] < 5):\n",
    "            val += 1\n",
    "        if (numHAcceptors[idx] <= 10):\n",
    "            val += 1\n",
    "        if (numHDonors[idx] <= 5):\n",
    "            val += 1\n",
    "        if (boiling_point[idx] <50):\n",
    "            val += 5\n",
    "        result[idx] = val/17\n",
    "\n",
    "    return list(zip(smiles, result))"
   ]
  },
  {
   "cell_type": "code",
   "execution_count": 125,
   "metadata": {},
   "outputs": [],
   "source": [
    "dataset = torch.load('lg.bin')\n",
    "Agent = RNN()"
   ]
  },
  {
   "cell_type": "code",
   "execution_count": 126,
   "metadata": {},
   "outputs": [
    {
     "data": {
      "text/plain": [
       "<All keys matched successfully>"
      ]
     },
     "execution_count": 126,
     "metadata": {},
     "output_type": "execute_result"
    }
   ],
   "source": [
    "Agent.rnn.load_state_dict(torch.load(\"Agent_bp_less_than_50.ckpt\"))"
   ]
  },
  {
   "cell_type": "code",
   "execution_count": 127,
   "metadata": {},
   "outputs": [],
   "source": [
    "mols = []\n",
    "for i in range(30):\n",
    "    seqs, _, _ = Agent.sample(100)\n",
    "    for idx, s in enumerate(seqs.cpu().numpy()):\n",
    "        try:\n",
    "\n",
    "            s = list(s)\n",
    "            s = s[:s.index(2972)]\n",
    "            mol = dataset.model.decode(s)\n",
    "            if Chem.MolFromSmiles(mol):\n",
    "                #print(mol)\n",
    "                mols.append(mol)\n",
    "        except:\n",
    "            mols.append(None)"
   ]
  },
  {
   "cell_type": "code",
   "execution_count": 128,
   "metadata": {},
   "outputs": [],
   "source": [
    "smiles2id = {mols[idx]: idx for idx in range(len(mols)) if mols[idx] is not None}\n",
    "correct_smiles = list(filter(lambda x: x is not None, mols))"
   ]
  },
  {
   "cell_type": "code",
   "execution_count": 129,
   "metadata": {},
   "outputs": [],
   "source": [
    "fraction_valid_smiles = len(correct_smiles)/3000"
   ]
  },
  {
   "cell_type": "code",
   "execution_count": 132,
   "metadata": {},
   "outputs": [
    {
     "data": {
      "text/plain": [
       "0.9903333333333333"
      ]
     },
     "execution_count": 132,
     "metadata": {},
     "output_type": "execute_result"
    }
   ],
   "source": [
    "fraction_valid_smiles"
   ]
  },
  {
   "cell_type": "code",
   "execution_count": 133,
   "metadata": {},
   "outputs": [],
   "source": [
    "def chunks(lst, n):\n",
    "    \"\"\"Yield successive n-sized chunks from lst.\"\"\"\n",
    "    for i in range(0, len(lst), n):\n",
    "        yield lst[i:i + n]"
   ]
  },
  {
   "cell_type": "code",
   "execution_count": 134,
   "metadata": {},
   "outputs": [],
   "source": [
    "from tqdm import tqdm"
   ]
  },
  {
   "cell_type": "code",
   "execution_count": 135,
   "metadata": {},
   "outputs": [
    {
     "name": "stderr",
     "output_type": "stream",
     "text": [
      "\n",
      "0it [00:00, ?it/s]\u001b[A\n",
      "1it [00:11, 11.25s/it]\u001b[A\n",
      "2it [00:21, 11.10s/it]\u001b[A\n",
      "3it [00:32, 11.03s/it]\u001b[A\n",
      "4it [00:43, 10.91s/it]\u001b[A\n",
      "5it [00:54, 10.86s/it]\u001b[A\n",
      "6it [01:04, 10.70s/it]\u001b[A\n",
      "7it [01:14, 10.56s/it]\u001b[A\n",
      "8it [01:25, 10.52s/it]\u001b[A\n",
      "9it [01:35, 10.51s/it]\u001b[A\n",
      "10it [02:14, 19.14s/it]\u001b[A\n",
      "11it [02:51, 24.24s/it]\u001b[A\n",
      "12it [03:27, 27.74s/it]\u001b[A\n",
      "13it [04:03, 30.40s/it]\u001b[A\n",
      "14it [04:39, 32.04s/it]\u001b[A\n",
      "15it [05:17, 33.75s/it]\u001b[A\n",
      "16it [05:52, 34.34s/it]\u001b[A\n",
      "17it [06:31, 35.50s/it]\u001b[A\n",
      "18it [07:06, 35.31s/it]\u001b[A\n",
      "19it [07:40, 35.04s/it]\u001b[A\n",
      "20it [08:14, 34.67s/it]\u001b[A\n",
      "21it [08:50, 35.04s/it]\u001b[A\n",
      "22it [09:25, 35.21s/it]\u001b[A\n",
      "23it [09:58, 34.33s/it]\u001b[A\n",
      "24it [10:33, 34.81s/it]\u001b[A\n",
      "25it [11:11, 35.71s/it]\u001b[A\n",
      "26it [11:46, 35.51s/it]\u001b[A\n",
      "27it [12:21, 35.31s/it]\u001b[A\n",
      "28it [12:54, 34.52s/it]\u001b[A\n",
      "29it [13:31, 35.19s/it]\u001b[A\n",
      "30it [14:04, 34.57s/it]\u001b[A\n",
      "31it [14:40, 35.08s/it]\u001b[A\n",
      "32it [15:14, 34.74s/it]\u001b[A\n",
      "33it [15:36, 31.06s/it]\u001b[A\n",
      "34it [15:48, 25.14s/it]\u001b[A\n",
      "35it [15:59, 20.96s/it]\u001b[A\n",
      "36it [16:09, 17.80s/it]\u001b[A\n",
      "37it [16:21, 15.81s/it]\u001b[A\n",
      "38it [16:31, 14.32s/it]\u001b[A\n",
      "39it [16:42, 13.11s/it]\u001b[A\n",
      "40it [16:52, 12.36s/it]\u001b[A\n",
      "41it [17:03, 11.79s/it]\u001b[A\n",
      "42it [17:13, 11.38s/it]\u001b[A\n",
      "43it [17:24, 11.17s/it]\u001b[A\n",
      "44it [17:35, 11.06s/it]\u001b[A\n",
      "45it [17:45, 10.83s/it]\u001b[A\n",
      "46it [17:56, 10.87s/it]\u001b[A\n",
      "47it [18:07, 10.85s/it]\u001b[A\n",
      "48it [18:18, 11.04s/it]\u001b[A\n",
      "49it [18:29, 10.93s/it]\u001b[A\n",
      "50it [18:41, 11.14s/it]\u001b[A\n",
      "51it [18:51, 10.90s/it]\u001b[A\n",
      "52it [19:01, 10.72s/it]\u001b[A\n",
      "53it [19:12, 10.84s/it]\u001b[A\n",
      "54it [19:23, 10.82s/it]\u001b[A\n",
      "55it [19:34, 10.86s/it]\u001b[A\n",
      "56it [19:45, 10.97s/it]\u001b[A\n",
      "57it [19:56, 10.99s/it]\u001b[A\n",
      "58it [20:07, 10.94s/it]\u001b[A\n",
      "59it [20:18, 10.94s/it]\u001b[A\n",
      "60it [20:22, 20.38s/it]\u001b[A\n"
     ]
    }
   ],
   "source": [
    "vals = []\n",
    "for s in tqdm(chunks(correct_smiles, 50)):\n",
    "    res = scoring_func(s, 10)\n",
    "    vals.append(res)"
   ]
  },
  {
   "cell_type": "code",
   "execution_count": 136,
   "metadata": {},
   "outputs": [],
   "source": [
    "mols_score = []\n",
    "for val in vals:\n",
    "    for mol, score in val:\n",
    "        mols_score.append((mol, score))"
   ]
  },
  {
   "cell_type": "code",
   "execution_count": 137,
   "metadata": {},
   "outputs": [],
   "source": [
    "mols_score = sorted(mols_score, key = lambda x: x[1], reverse = True)[:1000]"
   ]
  },
  {
   "cell_type": "code",
   "execution_count": 138,
   "metadata": {},
   "outputs": [],
   "source": [
    "import pandas as pd\n",
    "df = pd.DataFrame(mols_score)"
   ]
  },
  {
   "cell_type": "code",
   "execution_count": 139,
   "metadata": {},
   "outputs": [],
   "source": [
    "from rdkit.Chem.Draw import MolsToGridImage\n"
   ]
  },
  {
   "cell_type": "code",
   "execution_count": 140,
   "metadata": {},
   "outputs": [],
   "source": [
    "img =MolsToGridImage([Chem.MolFromSmiles(x) for x, y in mols_score[:15]], molsPerRow = 5)"
   ]
  },
  {
   "cell_type": "code",
   "execution_count": 141,
   "metadata": {},
   "outputs": [],
   "source": [
    "img.save(\"reinvent.png\")"
   ]
  },
  {
   "cell_type": "code",
   "execution_count": 143,
   "metadata": {},
   "outputs": [],
   "source": [
    "df.rename(columns = {0:\"SMILES BP less 50\", 1: \"Score\"}).to_csv(\"SMILES_BP_less_50.csv\", index = False)"
   ]
  },
  {
   "cell_type": "code",
   "execution_count": 42,
   "metadata": {},
   "outputs": [
    {
     "data": {
      "text/plain": [
       "[7, 5, 9, 0, 0, 0, 0, 0]"
      ]
     },
     "execution_count": 42,
     "metadata": {},
     "output_type": "execute_result"
    }
   ],
   "source": [
    "dataset.model.encode(\"Cc1ccccc1\")"
   ]
  },
  {
   "cell_type": "code",
   "execution_count": 120,
   "metadata": {},
   "outputs": [],
   "source": [
    "df[1] = df[1]*12/17"
   ]
  },
  {
   "cell_type": "code",
   "execution_count": 121,
   "metadata": {},
   "outputs": [
    {
     "data": {
      "text/html": [
       "<div>\n",
       "<style scoped>\n",
       "    .dataframe tbody tr th:only-of-type {\n",
       "        vertical-align: middle;\n",
       "    }\n",
       "\n",
       "    .dataframe tbody tr th {\n",
       "        vertical-align: top;\n",
       "    }\n",
       "\n",
       "    .dataframe thead th {\n",
       "        text-align: right;\n",
       "    }\n",
       "</style>\n",
       "<table border=\"1\" class=\"dataframe\">\n",
       "  <thead>\n",
       "    <tr style=\"text-align: right;\">\n",
       "      <th></th>\n",
       "      <th>0</th>\n",
       "      <th>1</th>\n",
       "    </tr>\n",
       "  </thead>\n",
       "  <tbody>\n",
       "    <tr>\n",
       "      <td>0</td>\n",
       "      <td>O=C(Nc1ccc(F)cc1O)C(=O)Nc1cnccc1Cl</td>\n",
       "      <td>1.000000</td>\n",
       "    </tr>\n",
       "    <tr>\n",
       "      <td>1</td>\n",
       "      <td>Cc1ccccc1NC(=O)NNc1cc(Cl)cc(N)c1O</td>\n",
       "      <td>1.000000</td>\n",
       "    </tr>\n",
       "    <tr>\n",
       "      <td>2</td>\n",
       "      <td>Cc1ccccc1NC(=O)CNc1cc(Cl)cc(Br)c1</td>\n",
       "      <td>1.000000</td>\n",
       "    </tr>\n",
       "    <tr>\n",
       "      <td>3</td>\n",
       "      <td>O=C(NCc1ccc(O)c(Cl)c1)c1cc(Cl)ccc1O</td>\n",
       "      <td>1.000000</td>\n",
       "    </tr>\n",
       "    <tr>\n",
       "      <td>4</td>\n",
       "      <td>CCCc1ccccc1NC(=O)Nc1ccc(Cl)cn1</td>\n",
       "      <td>1.000000</td>\n",
       "    </tr>\n",
       "    <tr>\n",
       "      <td>...</td>\n",
       "      <td>...</td>\n",
       "      <td>...</td>\n",
       "    </tr>\n",
       "    <tr>\n",
       "      <td>995</td>\n",
       "      <td>O=C(NCc1cc(Cl)cc(Cl)c1)NNC(=O)Nc1ccc(F)cn1</td>\n",
       "      <td>0.941176</td>\n",
       "    </tr>\n",
       "    <tr>\n",
       "      <td>996</td>\n",
       "      <td>O=C(NCc1cncc(Cl)c1)c1cc(Cl)c(Cl)cc1Cl</td>\n",
       "      <td>0.941176</td>\n",
       "    </tr>\n",
       "    <tr>\n",
       "      <td>997</td>\n",
       "      <td>Cc1ccc(Cl)cc1NC(=O)NNC(=O)NNc1ccc(Cl)c(Cl)c1</td>\n",
       "      <td>0.941176</td>\n",
       "    </tr>\n",
       "    <tr>\n",
       "      <td>998</td>\n",
       "      <td>Nc1cc(NC(=O)Nc2cc(Cl)c(F)c(Cl)c2)ccc1Cl</td>\n",
       "      <td>0.941176</td>\n",
       "    </tr>\n",
       "    <tr>\n",
       "      <td>999</td>\n",
       "      <td>O=C(Nc1cccc(Cl)c1)Nc1ccccc1Cl</td>\n",
       "      <td>0.941176</td>\n",
       "    </tr>\n",
       "  </tbody>\n",
       "</table>\n",
       "<p>1000 rows × 2 columns</p>\n",
       "</div>"
      ],
      "text/plain": [
       "                                                0         1\n",
       "0              O=C(Nc1ccc(F)cc1O)C(=O)Nc1cnccc1Cl  1.000000\n",
       "1               Cc1ccccc1NC(=O)NNc1cc(Cl)cc(N)c1O  1.000000\n",
       "2               Cc1ccccc1NC(=O)CNc1cc(Cl)cc(Br)c1  1.000000\n",
       "3             O=C(NCc1ccc(O)c(Cl)c1)c1cc(Cl)ccc1O  1.000000\n",
       "4                  CCCc1ccccc1NC(=O)Nc1ccc(Cl)cn1  1.000000\n",
       "..                                            ...       ...\n",
       "995    O=C(NCc1cc(Cl)cc(Cl)c1)NNC(=O)Nc1ccc(F)cn1  0.941176\n",
       "996         O=C(NCc1cncc(Cl)c1)c1cc(Cl)c(Cl)cc1Cl  0.941176\n",
       "997  Cc1ccc(Cl)cc1NC(=O)NNC(=O)NNc1ccc(Cl)c(Cl)c1  0.941176\n",
       "998       Nc1cc(NC(=O)Nc2cc(Cl)c(F)c(Cl)c2)ccc1Cl  0.941176\n",
       "999                 O=C(Nc1cccc(Cl)c1)Nc1ccccc1Cl  0.941176\n",
       "\n",
       "[1000 rows x 2 columns]"
      ]
     },
     "execution_count": 121,
     "metadata": {},
     "output_type": "execute_result"
    }
   ],
   "source": [
    "df"
   ]
  },
  {
   "cell_type": "code",
   "execution_count": null,
   "metadata": {},
   "outputs": [],
   "source": []
  }
 ],
 "metadata": {
  "kernelspec": {
   "display_name": "Python 3",
   "language": "python",
   "name": "python3"
  },
  "language_info": {
   "codemirror_mode": {
    "name": "ipython",
    "version": 3
   },
   "file_extension": ".py",
   "mimetype": "text/x-python",
   "name": "python",
   "nbconvert_exporter": "python",
   "pygments_lexer": "ipython3",
   "version": "3.7.4"
  }
 },
 "nbformat": 4,
 "nbformat_minor": 4
}
