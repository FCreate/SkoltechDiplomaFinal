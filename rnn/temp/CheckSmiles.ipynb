{
 "cells": [
  {
   "cell_type": "code",
   "execution_count": 89,
   "metadata": {},
   "outputs": [],
   "source": [
    "import yaml\n",
    "import argparse\n",
    "import torch\n",
    "import numpy as np\n",
    "from torch import nn, optim\n",
    "from torch.utils.data import DataLoader\n",
    "from tqdm import tqdm\n",
    "from model_simple import RNN\n",
    "import pandas  as pd\n",
    "from providers import MolecularNotationDataset, SpecialTokenWrapperModel, SmilesModel, robust_standardizer\n",
    "from legogram import LegoGram\n",
    "from legogram.apps import LegoGramRNNSampler\n",
    "from utils import collect, unique_func\n",
    "import os\n",
    "from torch.utils.tensorboard import SummaryWriter\n",
    "import json\n",
    "from torch.nn import MSELoss\n",
    "from copy import deepcopy\n"
   ]
  },
  {
   "cell_type": "code",
   "execution_count": 90,
   "metadata": {},
   "outputs": [],
   "source": [
    "dataset = torch.load('lg.bin')"
   ]
  },
  {
   "cell_type": "code",
   "execution_count": 91,
   "metadata": {},
   "outputs": [],
   "source": [
    "logits_prior = torch.load(\"logits_prior.pk\")"
   ]
  },
  {
   "cell_type": "code",
   "execution_count": 92,
   "metadata": {},
   "outputs": [
    {
     "data": {
      "text/plain": [
       "2974"
      ]
     },
     "execution_count": 92,
     "metadata": {},
     "output_type": "execute_result"
    }
   ],
   "source": [
    "dataset.vocsize"
   ]
  },
  {
   "cell_type": "code",
   "execution_count": 93,
   "metadata": {},
   "outputs": [
    {
     "data": {
      "text/plain": [
       "torch.Size([100, 2974, 140])"
      ]
     },
     "execution_count": 93,
     "metadata": {},
     "output_type": "execute_result"
    }
   ],
   "source": [
    "logits_prior.shape"
   ]
  },
  {
   "cell_type": "code",
   "execution_count": 94,
   "metadata": {},
   "outputs": [],
   "source": [
    "from torch.nn import LogSoftmax"
   ]
  },
  {
   "cell_type": "code",
   "execution_count": 16,
   "metadata": {},
   "outputs": [],
   "source": [
    "nn = LogSoftmax(dim =2)"
   ]
  },
  {
   "cell_type": "code",
   "execution_count": 17,
   "metadata": {},
   "outputs": [],
   "source": [
    "logits_prior = nn(logits_prior)"
   ]
  },
  {
   "cell_type": "code",
   "execution_count": 19,
   "metadata": {},
   "outputs": [
    {
     "data": {
      "text/plain": [
       "torch.Size([100, 2974, 140])"
      ]
     },
     "execution_count": 19,
     "metadata": {},
     "output_type": "execute_result"
    }
   ],
   "source": [
    "logits_prior.shape"
   ]
  },
  {
   "cell_type": "code",
   "execution_count": 21,
   "metadata": {},
   "outputs": [],
   "source": [
    "seqs = torch.load(\"seqs.pk\")"
   ]
  },
  {
   "cell_type": "code",
   "execution_count": 24,
   "metadata": {},
   "outputs": [],
   "source": [
    "seqs = seqs.detach().cpu().numpy()"
   ]
  },
  {
   "cell_type": "code",
   "execution_count": 53,
   "metadata": {},
   "outputs": [
    {
     "data": {
      "text/plain": [
       "<legogram.apps.rnn_sampler.LegoGramRNNSampler at 0x7f5676d1e610>"
      ]
     },
     "execution_count": 53,
     "metadata": {},
     "output_type": "execute_result"
    }
   ],
   "source": [
    "dataset.model."
   ]
  },
  {
   "cell_type": "code",
   "execution_count": 28,
   "metadata": {},
   "outputs": [
    {
     "ename": "IndexError",
     "evalue": "list index out of range",
     "output_type": "error",
     "traceback": [
      "\u001b[0;31m---------------------------------------------------------------------------\u001b[0m",
      "\u001b[0;31mIndexError\u001b[0m                                Traceback (most recent call last)",
      "\u001b[0;32m<ipython-input-28-864cfd35bb5c>\u001b[0m in \u001b[0;36m<module>\u001b[0;34m\u001b[0m\n\u001b[1;32m      1\u001b[0m \u001b[0;32mfor\u001b[0m \u001b[0melem\u001b[0m \u001b[0;32min\u001b[0m \u001b[0mseqs\u001b[0m\u001b[0;34m:\u001b[0m\u001b[0;34m\u001b[0m\u001b[0;34m\u001b[0m\u001b[0m\n\u001b[0;32m----> 2\u001b[0;31m     \u001b[0mdataset\u001b[0m\u001b[0;34m.\u001b[0m\u001b[0mmodel\u001b[0m\u001b[0;34m.\u001b[0m\u001b[0mdecode\u001b[0m\u001b[0;34m(\u001b[0m\u001b[0melem\u001b[0m\u001b[0;34m)\u001b[0m\u001b[0;34m\u001b[0m\u001b[0;34m\u001b[0m\u001b[0m\n\u001b[0m",
      "\u001b[0;32m~/yes/lib/python3.7/site-packages/legogram-0.9.0-py3.7.egg/legogram/apps/rnn_sampler.py\u001b[0m in \u001b[0;36mdecode\u001b[0;34m(self, code)\u001b[0m\n\u001b[1;32m     12\u001b[0m \u001b[0;34m\u001b[0m\u001b[0m\n\u001b[1;32m     13\u001b[0m     \u001b[0;32mdef\u001b[0m \u001b[0mdecode\u001b[0m \u001b[0;34m(\u001b[0m\u001b[0mself\u001b[0m\u001b[0;34m,\u001b[0m \u001b[0mcode\u001b[0m\u001b[0;34m)\u001b[0m\u001b[0;34m:\u001b[0m\u001b[0;34m\u001b[0m\u001b[0;34m\u001b[0m\u001b[0m\n\u001b[0;32m---> 14\u001b[0;31m         \u001b[0;32mreturn\u001b[0m \u001b[0mself\u001b[0m\u001b[0;34m.\u001b[0m\u001b[0mlg\u001b[0m\u001b[0;34m.\u001b[0m\u001b[0mdecode\u001b[0m\u001b[0;34m(\u001b[0m\u001b[0;34m[\u001b[0m\u001b[0mc\u001b[0m \u001b[0;34m-\u001b[0m \u001b[0mself\u001b[0m\u001b[0;34m.\u001b[0m\u001b[0mnspecs\u001b[0m \u001b[0;32mfor\u001b[0m \u001b[0mc\u001b[0m \u001b[0;32min\u001b[0m \u001b[0mcode\u001b[0m\u001b[0;34m]\u001b[0m\u001b[0;34m)\u001b[0m\u001b[0;34m\u001b[0m\u001b[0;34m\u001b[0m\u001b[0m\n\u001b[0m\u001b[1;32m     15\u001b[0m         \u001b[0;31m#return self.lg.decode([c-self.nspecs for c in code])\u001b[0m\u001b[0;34m\u001b[0m\u001b[0;34m\u001b[0m\u001b[0;34m\u001b[0m\u001b[0m\n\u001b[1;32m     16\u001b[0m \u001b[0;34m\u001b[0m\u001b[0m\n",
      "\u001b[0;32m~/yes/lib/python3.7/site-packages/legogram-0.9.0-py3.7.egg/legogram/base.py\u001b[0m in \u001b[0;36mdecode\u001b[0;34m(self, code, partial)\u001b[0m\n\u001b[1;32m    131\u001b[0m         \u001b[0;32mfor\u001b[0m \u001b[0mi\u001b[0m \u001b[0;32min\u001b[0m \u001b[0mcode\u001b[0m\u001b[0;34m:\u001b[0m\u001b[0;34m\u001b[0m\u001b[0;34m\u001b[0m\u001b[0m\n\u001b[1;32m    132\u001b[0m             \u001b[0mrules\u001b[0m\u001b[0;34m.\u001b[0m\u001b[0mappend\u001b[0m\u001b[0;34m(\u001b[0m\u001b[0mself\u001b[0m\u001b[0;34m.\u001b[0m\u001b[0mrules\u001b[0m\u001b[0;34m[\u001b[0m\u001b[0mi\u001b[0m\u001b[0;34m]\u001b[0m\u001b[0;34m)\u001b[0m\u001b[0;34m\u001b[0m\u001b[0;34m\u001b[0m\u001b[0m\n\u001b[0;32m--> 133\u001b[0;31m         \u001b[0;32mreturn\u001b[0m \u001b[0mdecode\u001b[0m\u001b[0;34m(\u001b[0m\u001b[0mrules\u001b[0m\u001b[0;34m,\u001b[0m \u001b[0mpartial\u001b[0m\u001b[0;34m)\u001b[0m\u001b[0;34m\u001b[0m\u001b[0;34m\u001b[0m\u001b[0m\n\u001b[0m\u001b[1;32m    134\u001b[0m \u001b[0;34m\u001b[0m\u001b[0m\n\u001b[1;32m    135\u001b[0m     \u001b[0;32mdef\u001b[0m \u001b[0mcalc_compat\u001b[0m \u001b[0;34m(\u001b[0m\u001b[0mself\u001b[0m\u001b[0;34m)\u001b[0m\u001b[0;34m:\u001b[0m\u001b[0;34m\u001b[0m\u001b[0;34m\u001b[0m\u001b[0m\n",
      "\u001b[0;32m~/yes/lib/python3.7/site-packages/legogram-0.9.0-py3.7.egg/legogram/grammar.py\u001b[0m in \u001b[0;36mdecode\u001b[0;34m(rules, partial)\u001b[0m\n\u001b[1;32m    315\u001b[0m     \u001b[0mres\u001b[0m \u001b[0;34m=\u001b[0m \u001b[0mrules\u001b[0m\u001b[0;34m[\u001b[0m\u001b[0;36m0\u001b[0m\u001b[0;34m]\u001b[0m\u001b[0;34m\u001b[0m\u001b[0;34m\u001b[0m\u001b[0m\n\u001b[1;32m    316\u001b[0m     \u001b[0;32mfor\u001b[0m \u001b[0mrule\u001b[0m \u001b[0;32min\u001b[0m \u001b[0mrules\u001b[0m\u001b[0;34m[\u001b[0m\u001b[0;36m1\u001b[0m\u001b[0;34m:\u001b[0m\u001b[0;34m]\u001b[0m\u001b[0;34m:\u001b[0m\u001b[0;34m\u001b[0m\u001b[0;34m\u001b[0m\u001b[0m\n\u001b[0;32m--> 317\u001b[0;31m         \u001b[0mres\u001b[0m \u001b[0;34m=\u001b[0m \u001b[0mcombine_rules\u001b[0m\u001b[0;34m(\u001b[0m\u001b[0mres\u001b[0m\u001b[0;34m,\u001b[0m \u001b[0mrule\u001b[0m\u001b[0;34m)\u001b[0m\u001b[0;34m\u001b[0m\u001b[0;34m\u001b[0m\u001b[0m\n\u001b[0m\u001b[1;32m    318\u001b[0m     \u001b[0;32mif\u001b[0m \u001b[0;32mnot\u001b[0m \u001b[0mpartial\u001b[0m\u001b[0;34m:\u001b[0m\u001b[0;34m\u001b[0m\u001b[0;34m\u001b[0m\u001b[0m\n\u001b[1;32m    319\u001b[0m         \u001b[0;32mreturn\u001b[0m \u001b[0mChem\u001b[0m\u001b[0;34m.\u001b[0m\u001b[0mMolToSmiles\u001b[0m\u001b[0;34m(\u001b[0m\u001b[0mgraph2mol\u001b[0m\u001b[0;34m(\u001b[0m\u001b[0mres\u001b[0m\u001b[0;34m)\u001b[0m\u001b[0;34m)\u001b[0m\u001b[0;34m\u001b[0m\u001b[0;34m\u001b[0m\u001b[0m\n",
      "\u001b[0;32m~/yes/lib/python3.7/site-packages/legogram-0.9.0-py3.7.egg/legogram/grammar.py\u001b[0m in \u001b[0;36mcombine_rules\u001b[0;34m(r1, r2)\u001b[0m\n\u001b[1;32m    278\u001b[0m \u001b[0;34m\u001b[0m\u001b[0m\n\u001b[1;32m    279\u001b[0m     \u001b[0mnt_list\u001b[0m \u001b[0;34m=\u001b[0m \u001b[0mlist\u001b[0m\u001b[0;34m(\u001b[0m\u001b[0mfilter\u001b[0m\u001b[0;34m(\u001b[0m\u001b[0;32mlambda\u001b[0m \u001b[0mnt_id\u001b[0m\u001b[0;34m:\u001b[0m \u001b[0mnt_fingerprint\u001b[0m\u001b[0;34m(\u001b[0m\u001b[0mr1\u001b[0m\u001b[0;34m,\u001b[0m \u001b[0mnt_id\u001b[0m\u001b[0;34m)\u001b[0m \u001b[0;34m==\u001b[0m \u001b[0mincome\u001b[0m\u001b[0;34m,\u001b[0m \u001b[0mnt_list\u001b[0m\u001b[0;34m)\u001b[0m\u001b[0;34m)\u001b[0m\u001b[0;34m\u001b[0m\u001b[0;34m\u001b[0m\u001b[0m\n\u001b[0;32m--> 280\u001b[0;31m     \u001b[0mnt_id\u001b[0m \u001b[0;34m=\u001b[0m \u001b[0msorted\u001b[0m\u001b[0;34m(\u001b[0m\u001b[0mnt_list\u001b[0m\u001b[0;34m,\u001b[0m \u001b[0mkey\u001b[0m\u001b[0;34m=\u001b[0m\u001b[0;32mlambda\u001b[0m \u001b[0mx\u001b[0m\u001b[0;34m:\u001b[0m \u001b[0mx\u001b[0m\u001b[0;34m[\u001b[0m\u001b[0;34m'order'\u001b[0m\u001b[0;34m]\u001b[0m\u001b[0;34m)\u001b[0m\u001b[0;34m[\u001b[0m\u001b[0;36m0\u001b[0m\u001b[0;34m]\u001b[0m\u001b[0;34m.\u001b[0m\u001b[0mindex\u001b[0m\u001b[0;34m\u001b[0m\u001b[0;34m\u001b[0m\u001b[0m\n\u001b[0m\u001b[1;32m    281\u001b[0m     \u001b[0;31m# nt_id in r1 is vertex0 in r2. unite!\u001b[0m\u001b[0;34m\u001b[0m\u001b[0;34m\u001b[0m\u001b[0;34m\u001b[0m\u001b[0m\n\u001b[1;32m    282\u001b[0m     \u001b[0morig_order\u001b[0m \u001b[0;34m=\u001b[0m \u001b[0mr1\u001b[0m\u001b[0;34m.\u001b[0m\u001b[0mvs\u001b[0m\u001b[0;34m[\u001b[0m\u001b[0mnt_id\u001b[0m\u001b[0;34m]\u001b[0m\u001b[0;34m[\u001b[0m\u001b[0;34m'order'\u001b[0m\u001b[0;34m]\u001b[0m  \u001b[0;31m# dont overwrite nt order if entering a ring\u001b[0m\u001b[0;34m\u001b[0m\u001b[0;34m\u001b[0m\u001b[0m\n",
      "\u001b[0;31mIndexError\u001b[0m: list index out of range"
     ]
    }
   ],
   "source": [
    "for elem in seqs:\n",
    "    dataset.model.decode(elem)"
   ]
  },
  {
   "cell_type": "code",
   "execution_count": null,
   "metadata": {},
   "outputs": [],
   "source": [
    "def sample(self, batch_size,lexical_model, max_length=140):\n",
    "\n",
    "    start_token = Variable(torch.zeros(batch_size).long())\n",
    "    start_token[:] = 1 #FixMe -- possible mistake ???\n",
    "\n",
    "    x = start_token.cuda().unsqueeze(1)\n",
    "\n",
    "    finished = torch.zeros(batch_size).byte()\n",
    "    state = lexical_model.init_state(batch_size)\n",
    "    hidden = self.initHidden(batch_size)\n",
    "    loss_f = CrossEntropyLoss(reduction='none')\n",
    "    #hidden = self.endp2hidden(endp)\n",
    "    #out = self.forward(x)\n",
    "    log_probs = Variable(torch.zeros(batch_size)).cuda()\n",
    "    tokens = start_token.clone().cuda()\n",
    "    tokens = tokens.unsqueeze(1)\n",
    "    #print(tokens.shape)\n",
    "    for step in range(max_length):\n",
    "        logits,hidden = self.forward_to_sample(x,hidden)\n",
    "        state,x = lexical_model.sample(state,logits.squeeze(2).cpu().detach().numpy(),0)\n",
    "\n",
    "        x = Variable(torch.cuda.LongTensor(x)).unsqueeze(1)\n",
    "        tokens = torch.cat([tokens, x], dim=1)\n",
    "        #print(tokens.shape)\n",
    "        #print(x.shape)\n",
    "\n",
    "        #print(logits.shape)\n",
    "        ##print(x.shape)\n",
    "        #print(x.is_cuda)\n",
    "        #print(logits.is_cuda)\n",
    "        log_probs += loss_f(logits.squeeze(2), x.squeeze(1))\n",
    "        #rint(x.shape)\n",
    "    correct = [Chem.MolToSmiles(graph2mol(g)) for g, finished in zip(*state) if finished]\n",
    "    return correct, log_probs, tokens"
   ]
  },
  {
   "cell_type": "code",
   "execution_count": 51,
   "metadata": {},
   "outputs": [
    {
     "data": {
      "text/plain": [
       "array([[ 206,  756, 2476, ..., 2165,  817, 1469],\n",
       "       [1142, 1354, 2575, ...,  352,   45, 1065],\n",
       "       [1425, 2517, 2168, ..., 1101,  127,  115],\n",
       "       ...,\n",
       "       [ 515, 1660,  100, ...,  125,   26,   38],\n",
       "       [1191, 2258, 1294, ..., 1807,  951, 1346],\n",
       "       [1968,  725, 1485, ...,   33,   62,   29]])"
      ]
     },
     "execution_count": 51,
     "metadata": {},
     "output_type": "execute_result"
    }
   ],
   "source": [
    "def __init__ (self, lg):\n",
    "    self.lg = lg\n",
    "    self.special_tokens = ['<pad>', '<bos>', '<eos>']\n",
    "    self.nspecs = len(self.special_tokens)\n",
    "    self.vocsize = self.lg.vocsize+self.nspecs\n",
    "\n",
    "def encode (self, smi):\n",
    "    return [c+self.nspecs for c in self.lg.encode(smi)]\n",
    "\n",
    "def decode (self, code):\n",
    "    return self.lg.decode([c - self.nspecs for c in code])\n",
    "    #return self.lg.decode([c-self.nspecs for c in code])\n",
    "\n",
    "def get_compat_rules (self, graph): # mask only\n",
    "    rule_mask = self.lg.get_compat_rules(graph, as_mask=True)\n",
    "    return rule_mask#np.hstack((np.ones((self.nspecs), np.float32), rule_mask))\n",
    "\n",
    "def init_state (self, batch_size):\n",
    "    graphs = [None] * batch_size\n",
    "    finished = [False] * batch_size\n",
    "    return (graphs, finished)\n",
    "\n",
    "def sample(self, state, logits, placeholder_idx):\n",
    "    graphs, finished = state\n",
    "    batch_len = logits.shape[0]\n",
    "    logits = logits[:,self.nspecs:]\n",
    "    current = [None] * batch_len\n",
    "    for i in range(len(graphs)):\n",
    "        graph = graphs[i]\n",
    "        if graph and (not finished[i]):\n",
    "            mask = self.get_compat_rules(graph)\n",
    "            if mask.sum() == 0.:\n",
    "                finished[i] = True\n",
    "                current[i] = placeholder_idx\n",
    "                continue\n",
    "\n",
    "            logits_of_a_rule = logits[i] * mask\n",
    "            bool_mask = mask.astype(np.bool)\n",
    "            prob = softmax(logits_of_a_rule[bool_mask])\n",
    "            current[i] = np.random.choice(np.array(range(logits.shape[-1]))[bool_mask], 1, p=prob)[0]\n",
    "            if not check_compat(graphs[i], self.lg.rules[current[i]]):\n",
    "                raise Exception(\n",
    "                    \"Failed to combine rules! {} and {}\".format(graphs[i], self.lg.rules[current[i]]))\n",
    "            graphs[i] = combine_rules(graphs[i], self.lg.rules[current[i]])\n",
    "\n",
    "        elif (not graph):\n",
    "            prob = softmax(logits[i])\n",
    "            current[i] = np.random.choice(range(logits.shape[-1]), 1, p=prob)[0]\n",
    "            graphs[i] = self.lg.rules[current[i]]\n",
    "        else:\n",
    "            current[i] = placeholder_idx\n",
    "    state = (graphs, finished)\n",
    "    return state, [c for c in current]\n",
    "\n"
   ]
  },
  {
   "cell_type": "code",
   "execution_count": 36,
   "metadata": {},
   "outputs": [],
   "source": [
    "elem = list(seqs[0, :])"
   ]
  },
  {
   "cell_type": "code",
   "execution_count": 47,
   "metadata": {},
   "outputs": [
    {
     "data": {
      "text/plain": [
       "[144, 3, 3, 3, 3, 3, 3]"
      ]
     },
     "execution_count": 47,
     "metadata": {},
     "output_type": "execute_result"
    }
   ],
   "source": [
    "dataset.model.encode(\"c1ccccc1\")"
   ]
  },
  {
   "cell_type": "code",
   "execution_count": 50,
   "metadata": {},
   "outputs": [
    {
     "ename": "IndexError",
     "evalue": "list index out of range",
     "output_type": "error",
     "traceback": [
      "\u001b[0;31m---------------------------------------------------------------------------\u001b[0m",
      "\u001b[0;31mIndexError\u001b[0m                                Traceback (most recent call last)",
      "\u001b[0;32m<ipython-input-50-36906d360f3a>\u001b[0m in \u001b[0;36m<module>\u001b[0;34m\u001b[0m\n\u001b[0;32m----> 1\u001b[0;31m \u001b[0mdataset\u001b[0m\u001b[0;34m.\u001b[0m\u001b[0mmodel\u001b[0m\u001b[0;34m.\u001b[0m\u001b[0mdecode\u001b[0m\u001b[0;34m(\u001b[0m\u001b[0;34m[\u001b[0m\u001b[0;36m144\u001b[0m\u001b[0;34m,\u001b[0m \u001b[0;36m3\u001b[0m\u001b[0;34m,\u001b[0m \u001b[0;36m3\u001b[0m\u001b[0;34m,\u001b[0m \u001b[0;36m3\u001b[0m\u001b[0;34m,\u001b[0m \u001b[0;36m3\u001b[0m\u001b[0;34m,\u001b[0m \u001b[0;36m3\u001b[0m\u001b[0;34m,\u001b[0m \u001b[0;36m3\u001b[0m\u001b[0;34m,\u001b[0m \u001b[0;36m2\u001b[0m\u001b[0;34m,\u001b[0m \u001b[0;36m2\u001b[0m\u001b[0;34m,\u001b[0m\u001b[0;36m2\u001b[0m\u001b[0;34m]\u001b[0m\u001b[0;34m)\u001b[0m\u001b[0;34m\u001b[0m\u001b[0;34m\u001b[0m\u001b[0m\n\u001b[0m",
      "\u001b[0;32m~/yes/lib/python3.7/site-packages/legogram-0.9.0-py3.7.egg/legogram/apps/rnn_sampler.py\u001b[0m in \u001b[0;36mdecode\u001b[0;34m(self, code)\u001b[0m\n\u001b[1;32m     12\u001b[0m \u001b[0;34m\u001b[0m\u001b[0m\n\u001b[1;32m     13\u001b[0m     \u001b[0;32mdef\u001b[0m \u001b[0mdecode\u001b[0m \u001b[0;34m(\u001b[0m\u001b[0mself\u001b[0m\u001b[0;34m,\u001b[0m \u001b[0mcode\u001b[0m\u001b[0;34m)\u001b[0m\u001b[0;34m:\u001b[0m\u001b[0;34m\u001b[0m\u001b[0;34m\u001b[0m\u001b[0m\n\u001b[0;32m---> 14\u001b[0;31m         \u001b[0;32mreturn\u001b[0m \u001b[0mself\u001b[0m\u001b[0;34m.\u001b[0m\u001b[0mlg\u001b[0m\u001b[0;34m.\u001b[0m\u001b[0mdecode\u001b[0m\u001b[0;34m(\u001b[0m\u001b[0;34m[\u001b[0m\u001b[0mc\u001b[0m \u001b[0;34m-\u001b[0m \u001b[0mself\u001b[0m\u001b[0;34m.\u001b[0m\u001b[0mnspecs\u001b[0m \u001b[0;32mfor\u001b[0m \u001b[0mc\u001b[0m \u001b[0;32min\u001b[0m \u001b[0mcode\u001b[0m\u001b[0;34m]\u001b[0m\u001b[0;34m)\u001b[0m\u001b[0;34m\u001b[0m\u001b[0;34m\u001b[0m\u001b[0m\n\u001b[0m\u001b[1;32m     15\u001b[0m         \u001b[0;31m#return self.lg.decode([c-self.nspecs for c in code])\u001b[0m\u001b[0;34m\u001b[0m\u001b[0;34m\u001b[0m\u001b[0;34m\u001b[0m\u001b[0m\n\u001b[1;32m     16\u001b[0m \u001b[0;34m\u001b[0m\u001b[0m\n",
      "\u001b[0;32m~/yes/lib/python3.7/site-packages/legogram-0.9.0-py3.7.egg/legogram/base.py\u001b[0m in \u001b[0;36mdecode\u001b[0;34m(self, code, partial)\u001b[0m\n\u001b[1;32m    131\u001b[0m         \u001b[0;32mfor\u001b[0m \u001b[0mi\u001b[0m \u001b[0;32min\u001b[0m \u001b[0mcode\u001b[0m\u001b[0;34m:\u001b[0m\u001b[0;34m\u001b[0m\u001b[0;34m\u001b[0m\u001b[0m\n\u001b[1;32m    132\u001b[0m             \u001b[0mrules\u001b[0m\u001b[0;34m.\u001b[0m\u001b[0mappend\u001b[0m\u001b[0;34m(\u001b[0m\u001b[0mself\u001b[0m\u001b[0;34m.\u001b[0m\u001b[0mrules\u001b[0m\u001b[0;34m[\u001b[0m\u001b[0mi\u001b[0m\u001b[0;34m]\u001b[0m\u001b[0;34m)\u001b[0m\u001b[0;34m\u001b[0m\u001b[0;34m\u001b[0m\u001b[0m\n\u001b[0;32m--> 133\u001b[0;31m         \u001b[0;32mreturn\u001b[0m \u001b[0mdecode\u001b[0m\u001b[0;34m(\u001b[0m\u001b[0mrules\u001b[0m\u001b[0;34m,\u001b[0m \u001b[0mpartial\u001b[0m\u001b[0;34m)\u001b[0m\u001b[0;34m\u001b[0m\u001b[0;34m\u001b[0m\u001b[0m\n\u001b[0m\u001b[1;32m    134\u001b[0m \u001b[0;34m\u001b[0m\u001b[0m\n\u001b[1;32m    135\u001b[0m     \u001b[0;32mdef\u001b[0m \u001b[0mcalc_compat\u001b[0m \u001b[0;34m(\u001b[0m\u001b[0mself\u001b[0m\u001b[0;34m)\u001b[0m\u001b[0;34m:\u001b[0m\u001b[0;34m\u001b[0m\u001b[0;34m\u001b[0m\u001b[0m\n",
      "\u001b[0;32m~/yes/lib/python3.7/site-packages/legogram-0.9.0-py3.7.egg/legogram/grammar.py\u001b[0m in \u001b[0;36mdecode\u001b[0;34m(rules, partial)\u001b[0m\n\u001b[1;32m    315\u001b[0m     \u001b[0mres\u001b[0m \u001b[0;34m=\u001b[0m \u001b[0mrules\u001b[0m\u001b[0;34m[\u001b[0m\u001b[0;36m0\u001b[0m\u001b[0;34m]\u001b[0m\u001b[0;34m\u001b[0m\u001b[0;34m\u001b[0m\u001b[0m\n\u001b[1;32m    316\u001b[0m     \u001b[0;32mfor\u001b[0m \u001b[0mrule\u001b[0m \u001b[0;32min\u001b[0m \u001b[0mrules\u001b[0m\u001b[0;34m[\u001b[0m\u001b[0;36m1\u001b[0m\u001b[0;34m:\u001b[0m\u001b[0;34m]\u001b[0m\u001b[0;34m:\u001b[0m\u001b[0;34m\u001b[0m\u001b[0;34m\u001b[0m\u001b[0m\n\u001b[0;32m--> 317\u001b[0;31m         \u001b[0mres\u001b[0m \u001b[0;34m=\u001b[0m \u001b[0mcombine_rules\u001b[0m\u001b[0;34m(\u001b[0m\u001b[0mres\u001b[0m\u001b[0;34m,\u001b[0m \u001b[0mrule\u001b[0m\u001b[0;34m)\u001b[0m\u001b[0;34m\u001b[0m\u001b[0;34m\u001b[0m\u001b[0m\n\u001b[0m\u001b[1;32m    318\u001b[0m     \u001b[0;32mif\u001b[0m \u001b[0;32mnot\u001b[0m \u001b[0mpartial\u001b[0m\u001b[0;34m:\u001b[0m\u001b[0;34m\u001b[0m\u001b[0;34m\u001b[0m\u001b[0m\n\u001b[1;32m    319\u001b[0m         \u001b[0;32mreturn\u001b[0m \u001b[0mChem\u001b[0m\u001b[0;34m.\u001b[0m\u001b[0mMolToSmiles\u001b[0m\u001b[0;34m(\u001b[0m\u001b[0mgraph2mol\u001b[0m\u001b[0;34m(\u001b[0m\u001b[0mres\u001b[0m\u001b[0;34m)\u001b[0m\u001b[0;34m)\u001b[0m\u001b[0;34m\u001b[0m\u001b[0;34m\u001b[0m\u001b[0m\n",
      "\u001b[0;32m~/yes/lib/python3.7/site-packages/legogram-0.9.0-py3.7.egg/legogram/grammar.py\u001b[0m in \u001b[0;36mcombine_rules\u001b[0;34m(r1, r2)\u001b[0m\n\u001b[1;32m    278\u001b[0m \u001b[0;34m\u001b[0m\u001b[0m\n\u001b[1;32m    279\u001b[0m     \u001b[0mnt_list\u001b[0m \u001b[0;34m=\u001b[0m \u001b[0mlist\u001b[0m\u001b[0;34m(\u001b[0m\u001b[0mfilter\u001b[0m\u001b[0;34m(\u001b[0m\u001b[0;32mlambda\u001b[0m \u001b[0mnt_id\u001b[0m\u001b[0;34m:\u001b[0m \u001b[0mnt_fingerprint\u001b[0m\u001b[0;34m(\u001b[0m\u001b[0mr1\u001b[0m\u001b[0;34m,\u001b[0m \u001b[0mnt_id\u001b[0m\u001b[0;34m)\u001b[0m \u001b[0;34m==\u001b[0m \u001b[0mincome\u001b[0m\u001b[0;34m,\u001b[0m \u001b[0mnt_list\u001b[0m\u001b[0;34m)\u001b[0m\u001b[0;34m)\u001b[0m\u001b[0;34m\u001b[0m\u001b[0;34m\u001b[0m\u001b[0m\n\u001b[0;32m--> 280\u001b[0;31m     \u001b[0mnt_id\u001b[0m \u001b[0;34m=\u001b[0m \u001b[0msorted\u001b[0m\u001b[0;34m(\u001b[0m\u001b[0mnt_list\u001b[0m\u001b[0;34m,\u001b[0m \u001b[0mkey\u001b[0m\u001b[0;34m=\u001b[0m\u001b[0;32mlambda\u001b[0m \u001b[0mx\u001b[0m\u001b[0;34m:\u001b[0m \u001b[0mx\u001b[0m\u001b[0;34m[\u001b[0m\u001b[0;34m'order'\u001b[0m\u001b[0;34m]\u001b[0m\u001b[0;34m)\u001b[0m\u001b[0;34m[\u001b[0m\u001b[0;36m0\u001b[0m\u001b[0;34m]\u001b[0m\u001b[0;34m.\u001b[0m\u001b[0mindex\u001b[0m\u001b[0;34m\u001b[0m\u001b[0;34m\u001b[0m\u001b[0m\n\u001b[0m\u001b[1;32m    281\u001b[0m     \u001b[0;31m# nt_id in r1 is vertex0 in r2. unite!\u001b[0m\u001b[0;34m\u001b[0m\u001b[0;34m\u001b[0m\u001b[0;34m\u001b[0m\u001b[0m\n\u001b[1;32m    282\u001b[0m     \u001b[0morig_order\u001b[0m \u001b[0;34m=\u001b[0m \u001b[0mr1\u001b[0m\u001b[0;34m.\u001b[0m\u001b[0mvs\u001b[0m\u001b[0;34m[\u001b[0m\u001b[0mnt_id\u001b[0m\u001b[0;34m]\u001b[0m\u001b[0;34m[\u001b[0m\u001b[0;34m'order'\u001b[0m\u001b[0;34m]\u001b[0m  \u001b[0;31m# dont overwrite nt order if entering a ring\u001b[0m\u001b[0;34m\u001b[0m\u001b[0;34m\u001b[0m\u001b[0m\n",
      "\u001b[0;31mIndexError\u001b[0m: list index out of range"
     ]
    }
   ],
   "source": [
    "dataset.model.decode([144, 3, 3, 3, 3, 3, 3, 2, 2,2])"
   ]
  },
  {
   "cell_type": "code",
   "execution_count": null,
   "metadata": {},
   "outputs": [],
   "source": [
    "for step in range(max_length):\n",
    "        logits,hidden = self.forward_to_sample(x,hidden)\n",
    "        state,x = lexical_model.sample(state,logits.squeeze(2).cpu().detach().numpy(),0)\n",
    "\n",
    "        x = Variable(torch.cuda.LongTensor(x)).unsqueeze(1)\n",
    "        tokens = torch.cat([tokens, x], dim=1)\n",
    "        #print(tokens.shape)\n",
    "        #print(x.shape)\n",
    "\n",
    "        #print(logits.shape)\n",
    "        ##print(x.shape)\n",
    "        #print(x.is_cuda)\n",
    "        #print(logits.is_cuda)\n",
    "        log_probs += loss_f(logits.squeeze(2), x.squeeze(1))"
   ]
  },
  {
   "cell_type": "code",
   "execution_count": 52,
   "metadata": {},
   "outputs": [
    {
     "data": {
      "text/plain": [
       "array([[ 206,  756, 2476, ..., 2165,  817, 1469],\n",
       "       [1142, 1354, 2575, ...,  352,   45, 1065],\n",
       "       [1425, 2517, 2168, ..., 1101,  127,  115],\n",
       "       ...,\n",
       "       [ 515, 1660,  100, ...,  125,   26,   38],\n",
       "       [1191, 2258, 1294, ..., 1807,  951, 1346],\n",
       "       [1968,  725, 1485, ...,   33,   62,   29]])"
      ]
     },
     "execution_count": 52,
     "metadata": {},
     "output_type": "execute_result"
    }
   ],
   "source": [
    "seqs"
   ]
  },
  {
   "cell_type": "code",
   "execution_count": 58,
   "metadata": {},
   "outputs": [
    {
     "data": {
      "text/plain": [
       "92"
      ]
     },
     "execution_count": 58,
     "metadata": {},
     "output_type": "execute_result"
    }
   ],
   "source": [
    "np.sum(seqs == 2)"
   ]
  },
  {
   "cell_type": "code",
   "execution_count": 61,
   "metadata": {},
   "outputs": [
    {
     "data": {
      "text/plain": [
       "2971"
      ]
     },
     "execution_count": 61,
     "metadata": {},
     "output_type": "execute_result"
    }
   ],
   "source": [
    "dataset.model.lg.vocsize"
   ]
  },
  {
   "cell_type": "code",
   "execution_count": null,
   "metadata": {},
   "outputs": [],
   "source": []
  },
  {
   "cell_type": "code",
   "execution_count": null,
   "metadata": {},
   "outputs": [],
   "source": [
    "def fucking_sample(state, indexes):\n",
    "    graphs, finished = state\n",
    "    batch_len = len(indexes)\n",
    "    logits = logits[:,self.nspecs:]\n",
    "    current = [None] * batch_len\n",
    "    for i in range(len(graphs)):\n",
    "        graph = graphs[i]\n",
    "        if graph and (not finished[i]):\n",
    "            mask = self.get_compat_rules(graph)\n",
    "            if mask.sum() == 0.:\n",
    "                finished[i] = True\n",
    "                current[i] = placeholder_idx\n",
    "                continue\n",
    "\n",
    "            logits_of_a_rule = logits[i] * mask\n",
    "            bool_mask = mask.astype(np.bool)\n",
    "            prob = softmax(logits_of_a_rule[bool_mask])\n",
    "            current[i] = np.random.choice(np.array(range(logits.shape[-1]))[bool_mask], 1, p=prob)[0]\n",
    "            if not check_compat(graphs[i], self.lg.rules[current[i]]):\n",
    "                raise Exception(\n",
    "                    \"Failed to combine rules! {} and {}\".format(graphs[i], self.lg.rules[current[i]]))\n",
    "            graphs[i] = combine_rules(graphs[i], self.lg.rules[current[i]])\n",
    "\n",
    "        elif (not graph):\n",
    "            prob = softmax(logits[i])\n",
    "            current[i] = np.random.choice(range(logits.shape[-1]), 1, p=prob)[0]\n",
    "            graphs[i] = self.lg.rules[current[i]]\n",
    "        else:\n",
    "            current[i] = placeholder_idx\n",
    "    state = (graphs, finished)\n",
    "    return state, [c for c in current]"
   ]
  },
  {
   "cell_type": "code",
   "execution_count": null,
   "metadata": {},
   "outputs": [],
   "source": [
    "state = dataset.model.init_state(100)\n",
    "for step in range(140):\n",
    "    state = dataset.model.sample(state, seqs[])\n",
    "    \n",
    "    \n",
    "    \n",
    "        graphs, finished = state\n",
    "    batch_len = logits.shape[0]\n",
    "    logits = logits[:,self.nspecs:]\n",
    "    current = [None] * batch_len\n",
    "    for i in range(len(graphs)):\n",
    "        graph = graphs[i]\n",
    "        if graph and (not finished[i]):\n",
    "            mask = self.get_compat_rules(graph)\n",
    "            if mask.sum() == 0.:\n",
    "                finished[i] = True\n",
    "                current[i] = placeholder_idx\n",
    "                continue\n",
    "\n",
    "            logits_of_a_rule = logits[i] * mask\n",
    "            bool_mask = mask.astype(np.bool)\n",
    "            prob = softmax(logits_of_a_rule[bool_mask])\n",
    "            current[i] = np.random.choice(np.array(range(logits.shape[-1]))[bool_mask], 1, p=prob)[0]\n",
    "            if not check_compat(graphs[i], self.lg.rules[current[i]]):\n",
    "                raise Exception(\n",
    "                    \"Failed to combine rules! {} and {}\".format(graphs[i], self.lg.rules[current[i]]))\n",
    "            graphs[i] = combine_rules(graphs[i], self.lg.rules[current[i]])\n",
    "\n",
    "        elif (not graph):\n",
    "            prob = softmax(logits[i])\n",
    "            current[i] = np.random.choice(range(logits.shape[-1]), 1, p=prob)[0]\n",
    "            graphs[i] = self.lg.rules[current[i]]\n",
    "        else:\n",
    "            current[i] = placeholder_idx\n",
    "    state = (graphs, finished)\n",
    "    return state, [c for c in current]"
   ]
  },
  {
   "cell_type": "code",
   "execution_count": null,
   "metadata": {},
   "outputs": [],
   "source": [
    "def sample(self, batch_size,lexical_model, max_length=140):\n",
    "\n",
    "    start_token = Variable(torch.zeros(batch_size).long())\n",
    "    start_token[:] = 1 #FixMe -- possible mistake ???\n",
    "\n",
    "    x = start_token.cuda().unsqueeze(1)\n",
    "\n",
    "    finished = torch.zeros(batch_size).byte()\n",
    "    state = lexical_model.init_state(batch_size)\n",
    "    hidden = self.initHidden(batch_size)\n",
    "    loss_f = CrossEntropyLoss(reduction='none')\n",
    "    #hidden = self.endp2hidden(endp)\n",
    "    #out = self.forward(x)\n",
    "    log_probs = Variable(torch.zeros(batch_size)).cuda()\n",
    "    tokens = start_token.clone().cuda()\n",
    "    tokens = tokens.unsqueeze(1)\n",
    "    #print(tokens.shape)\n",
    "    for step in range(max_length):\n",
    "        logits,hidden = self.forward_to_sample(x,hidden)\n",
    "        state,x = lexical_model.sample(state,logits.squeeze(2).cpu().detach().numpy(),0)\n",
    "\n",
    "        x = Variable(torch.cuda.LongTensor(x)).unsqueeze(1)\n",
    "        tokens = torch.cat([tokens, x], dim=1)\n",
    "        #print(tokens.shape)\n",
    "        #print(x.shape)\n",
    "\n",
    "        #print(logits.shape)\n",
    "        ##print(x.shape)\n",
    "        #print(x.is_cuda)\n",
    "        #print(logits.is_cuda)\n",
    "        log_probs += loss_f(logits.squeeze(2), x.squeeze(1))\n",
    "        #rint(x.shape)\n",
    "    correct = [Chem.MolToSmiles(graph2mol(g)) for g, finished in zip(*state) if finished]\n",
    "    return correct, log_probs, tokens"
   ]
  },
  {
   "cell_type": "code",
   "execution_count": 63,
   "metadata": {},
   "outputs": [],
   "source": [
    "logits_agent= torch.load(\"logits_agent.pk\")"
   ]
  },
  {
   "cell_type": "code",
   "execution_count": 64,
   "metadata": {},
   "outputs": [
    {
     "data": {
      "text/plain": [
       "torch.Size([100, 2974, 140])"
      ]
     },
     "execution_count": 64,
     "metadata": {},
     "output_type": "execute_result"
    }
   ],
   "source": [
    "logits_agent.shape"
   ]
  },
  {
   "cell_type": "code",
   "execution_count": 70,
   "metadata": {},
   "outputs": [],
   "source": [
    "from rdkit import Chem"
   ]
  },
  {
   "cell_type": "code",
   "execution_count": 71,
   "metadata": {},
   "outputs": [],
   "source": [
    "from legogram import graph2mol"
   ]
  },
  {
   "cell_type": "code",
   "execution_count": 80,
   "metadata": {},
   "outputs": [],
   "source": [
    "state = dataset.model.init_state(100)\n",
    "for step in range(140):\n",
    "    state, _ = dataset.model.sample(state,logits_agent[:, :, step].cpu().detach().numpy(),0)\n",
    "correct = [Chem.MolToSmiles(graph2mol(g)) if finished else None for g, finished in zip(*state) ]\n",
    "    \n",
    "    "
   ]
  },
  {
   "cell_type": "code",
   "execution_count": 192,
   "metadata": {},
   "outputs": [],
   "source": [
    "smiles = torch.load(\"correct_smiles.pk\")"
   ]
  },
  {
   "cell_type": "code",
   "execution_count": 193,
   "metadata": {},
   "outputs": [
    {
     "data": {
      "text/plain": [
       "100"
      ]
     },
     "execution_count": 193,
     "metadata": {},
     "output_type": "execute_result"
    }
   ],
   "source": [
    "len(smiles)"
   ]
  },
  {
   "cell_type": "code",
   "execution_count": 109,
   "metadata": {},
   "outputs": [
    {
     "data": {
      "text/plain": [
       "['Nc1cccc(F)c1',\n",
       " 'C[C@H](C1CCCC1)C1CCC1',\n",
       " 'Cc1[nH]cc(=NS)o1',\n",
       " 'C[C@@H]1COOOO1',\n",
       " 'CC[O-]',\n",
       " 'CC1[NH2+]C2(CC(=O)CS1)c1cccc(=O)c1[NH2+]C2(ON1CCCCC1)c1cccc(=S)c1=S',\n",
       " 'C=C1C(=[NH+][C@H](C)CC)[C@H]2C(=O)N=C(C=Nc3c4c(cc5c(=O)ccc35)C(C)(C(C)C)C(O)(CC)O4)[NH+]12',\n",
       " '[N-]=c1oc(=S)c(=O)c2c1[C@]1(OOC(=O)c3ccc(=O)c(-c4occcc4=O)c31)C(=[N+]1O[C@H]3C=CC(=O)C31C=Cc1ccccc1)C2=O',\n",
       " 'O=S',\n",
       " 'C[N+]1=NCCC12OOC[C@@]1(C[C@@]13CO3)N([O-])N2O',\n",
       " 'CC=[NH+]c1cccc2csccc12',\n",
       " 'CN(c1ccc2c(c1)SCC2)C1CCCCC1',\n",
       " 'Cc1c2cc(=O)cc(=S)c2c2cc(=[N+]([O-])[C@H]3CCc4cc(Oc5ccc6n(c5)OCCO6)ccc4C3)csc12',\n",
       " 'CC[O-]',\n",
       " 'C[S@@+]([NH2+][N-][C@]12CC(OCl)[C@H](CO1)S2)n1ccc2c(cc3ccc4c(c32)N(OOc2cccco2)COC4)c1',\n",
       " 'Cc1cn[nH]no1',\n",
       " 'CC1=[N+](c2c(-c3cc([O-])cc(=O)c3)cscc2-c2cccc2=O)CN2C(C1)CC1CCc3c(c(=S)c4cc(=Cc5ccccc5)cc(=[N+](F)c5cccc5)c34)[NH+]12',\n",
       " 'CC[O-]',\n",
       " 'Cc1snc2c(=S)ccc3cccc1N32',\n",
       " 'Oc1coo[nH]o1',\n",
       " 'C[O-]',\n",
       " 'C[S@+](C[O-])C1OO1',\n",
       " 'C[C@@H]1CSSOc2ccncc21',\n",
       " 'Cc1sccc2c1CCC21C=Cc2oc[nH]cc2C12CC21OO1',\n",
       " 'Cc1ccc2c(c1)cc1cc3c(CO)cc(=S)cc3cc12',\n",
       " 'C[C@H]1CC[P@@](=S)(C(C[O-])(c2cccc2)C(Cl)Cl)Oc2c1c[nH]c(=S)c2=O',\n",
       " 'Cc1ccc2c(c1)[NH2+]C[C@H]1Cc3cccc(C(C)(COCOF)C4CCCC4)c3[C@H]21',\n",
       " 'CC1(Nc2ccccc2-c2ccccc2=S)ONOc2ccc3ccccc3c21',\n",
       " 'C[C@H]1[NH2+][C@@H]2N=[NH+][C@H]1O2',\n",
       " 'CC[O-]',\n",
       " 'Nn1c(=S)c(CO)c(=S)nn1[NH2+]c1[nH][nH]ooo1',\n",
       " 'C[C@H](c1cccc1)N1[C@H]2OCCS[C@H]1OO2',\n",
       " 'CN1N=[N+]2CNC=[N+]2[N+](c2c(O)cccc2F)=C1[O-]',\n",
       " 'Cc1cc2c(o1)OOC[C@@]21O[C@@H](C([O-])(Cl)C([O-])(F)C#N)OOO[C@@H]1c1ccc(=O)[n-]c1',\n",
       " 'C[N+]12CCC3(CS1)[C@@H]1CCC[C@@]34c3c(nccn3C[C@@H]42)C1',\n",
       " 'CC1=N[C@]2(OCC(C)c3ncc(=S)c32)OO1',\n",
       " 'Cc1cc2c(c3c4n2COC(c2ccccc2)(c2cc5cccc(-c6ccc(=O)cc6)c5c2)C4C2(NN3)O[C@H]2c2ccccc2)c(=S)c1=S',\n",
       " 'Cc1cccc(=Cc2ccccc2)c1',\n",
       " 'Cc1cnc(=S)os1',\n",
       " 'O=C1N=N[C@@H]2C1C=C([O-])[C@@H]2N1CN1',\n",
       " 'CN=c1ooc1F',\n",
       " 'CC1CC=C2CCCC[C@@H](P3([O-])=CCCCOO3)[C@H]21',\n",
       " 'Br[C@@H]1CP2(c3ccccc3)=C(CO1)OCO2',\n",
       " 'Cn1cooss1',\n",
       " 'C[C@@H]1C2C[C@]3(C=N2)[C@H]1CCC31CCCC2=c3ccccc3=N[C@@H]21',\n",
       " 'CN1NN2C[C@@H](N[S+]2NN2OC[C@@H](NF)O2)P12(NNN1O[NH+]3OO[NH+]1N=[N+]3[O-])N[NH+](O)OO2',\n",
       " 'Cc1occ2[n-]c(Cc3cccc[nH]3)cc3cccc1C32',\n",
       " '[O-]F',\n",
       " 'C[NH+]1CCC2=NC3(OCCOOOO3)OOC21',\n",
       " 'C[C@H]1[C@H](c2cc3cc(=Nc4cccc4=S)c(=O)c(=S)c3c2)[C@@H]1C1OCS(=O)(=[N+](F)F)O1',\n",
       " 'C[n+]1cc2cc3nnccc3c2n1',\n",
       " 'Cc1oc(F)cc2[nH]c(C(Cl)(N[O-])C(=O)Cc3c(=O)cc(=CO)c3=O)cc12',\n",
       " 'CN1C2=C(CCCC2)Cc2occc21',\n",
       " 'C[C@@]1(F)[NH+]=C[n+]2c(c([O-])cc2=O)[C@@]12CC(=O)S[C@@H]([N+]1(C(Cl)(c3ccccc3)n3cc(-c4cc(F)c(=S)c(=O)c4)c(=S)c(=O)c3=O)CCO1)C2',\n",
       " 'O=C1OC2(CN3OO[NH2+]C[C@H]13)N=N[C@]1(COCc3c(-c4ccc5c4ccc4cc(C(C[O-])c6ccccc6)ccc45)cc([O-])c31)c1ccccc12',\n",
       " 'Cc1c2c(c(-c3nnncc3-c3ccccc3)c3ccccc13)CSN2',\n",
       " 'CC1OOC2=C(CC=N2)[C@]1([C@H]1OOO[N+]12CO2)[n+]1ccccc1',\n",
       " 'Cc1cc2c(n1F)SC[P@@]([O-])(=[NH+]OF)C2',\n",
       " 'CN1CCO[C@@H](c2cccc(=O)c2)S1',\n",
       " 'C[O-]',\n",
       " 'CN1N[C@@]12N=NCC21CCC1',\n",
       " 'C[C@@H]1[C@@H]2S[N-][NH+](F)[C@@H]1O[C@]21CO[NH2+]C12Cc1c(cc(C[O-])c3ccccc13)CO2',\n",
       " 'Cc1oc2o[n+]3c(c2c2occc12)C[NH2+]C3',\n",
       " 'C[C@H]([O-])N1c2c(cccc2-c2cccc(-c3c(OC4CCOC4)cc(OC4CC4)c([NH+]4CC[S+](C5CCc6o[n-]c(=O)c(=O)c6C5)CC4)c3OC3CCOO3)c2)Cn2cooc(CC3CC3)c21',\n",
       " 'Cc1oc2ncoc2c2occcc12',\n",
       " 'Cc1cnc(=O)c2cc(-c3cccc(=P4(C5(c6ccccc6)OO5)[NH+]=C[NH+]=[N+]5CCN=C54)c3)c(=O)c12',\n",
       " 'C[C@H]1C[N+]2=C(CO)[NH2+]N3N4N[NH2+]ON4O[NH2+][NH+]3N2C([O-])([O-])O1',\n",
       " 'Cc1ccc(C2C=CC=C2)cc1=S',\n",
       " 'CC(S)=C[S-]',\n",
       " 'Cc1cccc(=S)c1',\n",
       " 'CC1([S-])C(=S)[NH+]=Cc2ccn(F)c21',\n",
       " 'CC[C@H](C)c1ccccc1',\n",
       " 'CC(c1ccccc1)(c1cc2c(co1)CCCCC2)C1CC1',\n",
       " 'Cc1cc(=S)c2cc3ccc(C4C[NH2+]4)cc3cc2s1',\n",
       " 'C[C@H]1CC[N+]2(CC23O[C@@H]3c2cosoo2)C2=c3ccccc3=C[C@H]21',\n",
       " 'Cc1nc2oc3ooosc3c(=S)c2c1=O',\n",
       " 'CC(C[O-])(C1=CC=COCC1)C([O-])([O-])Cn1ccc(=O)c(=O)c1=O',\n",
       " 'N#C[O-]',\n",
       " 'Cc1ccc2c(c1=C1c3cc4c(cc3CS1(=S)=S)CCOO4)C=CCC2',\n",
       " 'O=C1C=CC=C2C=[N+](c3ccccc3)C[C@@H]12',\n",
       " 'CC(=S)c1c(=O)ccc2ccc(=S)c(=C(c3c4cc[nH]cc4cc4cc(=S)c(-c5cc[nH]c([C@@]67OC(F)(c8cc[n-]c8=O)N(CC6c6cccc[nH]6)CC7(C)F)c5-c5cc6c(c(CN(CCC7CCSSC7)N7CCCC7)c5CC5C[NH2+]N[NH2+]5)COO6)c(=S)c34)C3COOOO3)c12',\n",
       " 'CN(c1cc2ccccc2c1)[C@@H]1CO1',\n",
       " 'Cn1c2ccccc2c2ccccc21',\n",
       " 'C[C@@]1(c2cocc2=S)C2=C(CC13CC3)[NH2+][NH+]([O-])C[C@@](F)(C1[N-]O1)C2',\n",
       " 'C[C@@]1(C2C[C@@H]3OO[C@@H]2O3)CO[C@H]2CNC[C@H]21',\n",
       " 'CS',\n",
       " 'Cc1[nH]c2cccc2c2cc(=O)c(=S)cc12',\n",
       " 'CC=c1cc(=S)cnc1N1Cc2ccc3cc(C)cc3c2CC12C=CCC=C2',\n",
       " 'O=C1CO[C@H]2SOOOO[C@H]12',\n",
       " 'CC1=Cc2c(cc(=S)cc2=[N+](F)F)[P@@](F)(=[N+](c2c[n-]c3[n+](c2)SO[NH2+]C3)[n+]2cccc2)OO1',\n",
       " 'Cc1ccc2cccc12',\n",
       " 'NC1=CN2Oc3c[nH]ccc3C([O-])(c3c([C@@H]4CCCc5cc(=O)ccc54)cccc3=[N+](CCc3ccc(-c4ccccc4)cc3)[C@@H]3CO3)C2S1',\n",
       " 'C[C@H]1N2[C@@H]3[NH+]4C5O[C@@H]([NH+]2[C@@H]5[S@+]3C2=COCC2)[C@]14Sc1ccc(=O)nc1=O',\n",
       " 'C#Cc1ccc2cc3c(cc2c1)OOO[C@@H]3c1cc(=S)c(=O)c(=C([O-])c2cc(=O)c(=O)c(=O)o2)c1=S',\n",
       " 'C[C@@H]1C(=[NH+]C2OO2)P2([C@H]3COCS3)(OO2)Sc2cc3ccccc3cc21',\n",
       " 'S=C1c2ccc(=C3OCc4c3c(=S)ccc4=S)c2CC[N+]12CC2',\n",
       " 'Cc1cc(=[OH+])c2cncc2o1',\n",
       " 'C[S@+](F)c1cc2c(nc3c(=c4cc(C5COOC5)cc5ccccc45)c(=C4[NH2+]N5OOON(S4)c4ccccc45)c4c(c32)CCC4)c(=S)c1=O',\n",
       " 'Cc1cccc(C2C[NH2+]2)c1C']"
      ]
     },
     "execution_count": 109,
     "metadata": {},
     "output_type": "execute_result"
    }
   ],
   "source": []
  },
  {
   "cell_type": "code",
   "execution_count": 78,
   "metadata": {},
   "outputs": [
    {
     "data": {
      "text/plain": [
       "100"
      ]
     },
     "execution_count": 78,
     "metadata": {},
     "output_type": "execute_result"
    }
   ],
   "source": [
    "len(state[0])"
   ]
  },
  {
   "cell_type": "code",
   "execution_count": 87,
   "metadata": {},
   "outputs": [
    {
     "data": {
      "text/plain": [
       "99"
      ]
     },
     "execution_count": 87,
     "metadata": {},
     "output_type": "execute_result"
    }
   ],
   "source": [
    "len(smiles)"
   ]
  },
  {
   "cell_type": "code",
   "execution_count": 194,
   "metadata": {},
   "outputs": [],
   "source": [
    "import rdkit\n",
    "from rdkit.Chem.Crippen import MolLogP, MolMR\n",
    "from rdkit.Chem.Lipinski import  NumHAcceptors, NumHDonors\n",
    "from rdkit.Chem.rdMolDescriptors import CalcNumRings, CalcNumRotatableBonds, CalcExactMolWt\n",
    "from providers import robust_standardizer\n",
    "import requests\n",
    "from rdkit import Chem\n",
    "import torch\n",
    "from copy import deepcopy\n",
    "import yaml\n",
    "from sklearn.preprocessing import StandardScaler\n",
    "import pandas  as pd\n",
    "from providers import MolecularNotationDataset, SpecialTokenWrapperModel, SmilesModel, robust_standardizer\n",
    "from legogram import LegoGram\n",
    "from legogram.apps import LegoGramRNNSampler\n",
    "import numpy as np\n",
    "from torch import nn, optim\n",
    "from torch.utils.data import DataLoader\n",
    "from tqdm import tqdm"
   ]
  },
  {
   "cell_type": "code",
   "execution_count": 152,
   "metadata": {},
   "outputs": [],
   "source": [
    "import requests\n",
    "#smiles = [\"c1ccccc1\", \"Br\"]\n",
    "vals_another = requests.post(\"https://backend.syntelly.com/tempSmilesArrToPredict\",\n",
    "                             json={'smiles': smiles}).json()"
   ]
  },
  {
   "cell_type": "code",
   "execution_count": 197,
   "metadata": {},
   "outputs": [],
   "source": [
    "for idx in range(len(smiles)):\n",
    "    if smiles[idx] is not None:\n",
    "        if Chem.MolFromSmiles(smiles[idx]) is None:\n",
    "            smiles[idx] = None"
   ]
  },
  {
   "cell_type": "code",
   "execution_count": 205,
   "metadata": {},
   "outputs": [],
   "source": [
    "smiles2id ={smiles[idx]:idx for idx in range(len(smiles)) if smiles[idx] is not None}"
   ]
  },
  {
   "cell_type": "code",
   "execution_count": 212,
   "metadata": {},
   "outputs": [
    {
     "data": {
      "text/plain": [
       "{'O=C1OCC2(CC2)c2c1cn1ccccc21': 3,\n",
       " 'Cc1cc(-c2ccccc2)cc2c1N(NCF)O[C@H]1CC=N[C@@H]21': 4,\n",
       " 'C[N+]12C[NH2+][C@@H](CN1C[n+]1cccc(=S)c1=S)OC2': 6,\n",
       " 'C[C@@H]1C[C@]12N1CC3CN2N[C@@H](C1)N3': 7,\n",
       " 'O=C1S(c2ccccc2)=[N+]2N=CC=[N+]2OC1(Cl)Cl': 9,\n",
       " 'Cc1cc2c(c1=O)SC(C1C=C1)=[NH+]O2': 10,\n",
       " 'CC([O-])[O-]': 11,\n",
       " 'CBr': 50,\n",
       " 'CC[O-]': 85,\n",
       " 'CC1[C@@H]2CCOCC[C@@H]2CC[C@@]12C=[N+](OC1OO1)c1ccccc12': 15,\n",
       " 'C[C@@H]1CC[C@@H]2CC[C@@H](C1)C2': 18,\n",
       " 'CC1=NCOCc2c1ccc1ccccc21': 21,\n",
       " 'Cc1ccccc1': 22,\n",
       " 'Cc1cc2cssc2n1': 23,\n",
       " 'CI': 24,\n",
       " 'C[C@H]1COC2OC3C=CC(OC3)[C@H]21': 25,\n",
       " 'CC(=c1nnss1)C1CC1': 29,\n",
       " 'C[C@@H]1Cc2nc3cccoc3c2CO1': 34,\n",
       " 'N#[N+][C@@H]1C2C=C[C@@H](C2)C1(F)c1ccc2c(c1)CCCC2': 36,\n",
       " 'C[O-]': 38,\n",
       " 'C[N+](=C1CC2[C@H](S1)[C@H]2c1o[nH][n+]1C)c1ccccc1': 39,\n",
       " 'CF': 40,\n",
       " 'C[C@H]1N[C@@H]2OOS[C@H]2N2CCC3=NCN=NN3[C@H]12': 42,\n",
       " 'C[C@H]1CCCCc2cccc(-c3ccc4cccc5c4c3CC5)c21': 44,\n",
       " 'C[C@H]1Oc2c(ccc(=S)c2=[N+]([O-])F)C2C=CO[C@@H]21': 47,\n",
       " 'N#C[O-]': 49,\n",
       " 'CC1=NNc2ccccc2N1': 51,\n",
       " 'Cc1ooc2o[nH]c(=[N+](C3COOC3)[NH+]3CCC3(CCCCCc3cccc([C@@H]4COC=CO4)c3C3CC3)CC[C@H]3COCCO3)c2c1-c1ccccc1': 52,\n",
       " 'CC': 53,\n",
       " 'O=c1ccc2nnnn[n+]2s1': 55,\n",
       " 'Cl[C@H]1CC2([C@@H]3C[C@@H]1[C@@H](C1CC1)[C@@]31C[NH2+]1)[NH+](c1ccccc1)[N+]21OO1': 58,\n",
       " 'Cc1c(C2CC2)ccc2c1CCC2': 59,\n",
       " 'C=C1O[C@@H]2OCCO[C@@H]2CS1': 61,\n",
       " 'CC1C2OC(c3cccos3)[C@H]([C@@H]3OCC[C@]4(C=Nc5ccooc54)S3)C12': 62,\n",
       " 'O=C1CO[C@@H]2[C@@H]1CCC[C@H]1CC=C[C@H]12': 64,\n",
       " 'C[C@@H]1[NH+]=CN[C@@H]1C1=Nc2ccccc2OCS1': 66,\n",
       " 'C[C@H]1SN=C2c3cccc(-c4ccc5c(c4)OCCC5)c3OCC21': 69,\n",
       " 'CC1C[C@@H]2C[P@](=S)(c3ccccc3)[C@@H](O2)C1=C1N=[N+](c2ccccc2)C=C2C[C@@H]3OSCOC3=[N+]21': 70,\n",
       " 'Cc1cccc[nH+]1': 72,\n",
       " 'CC(=S)N1COO[NH2+]1': 76,\n",
       " 'CO[O-]': 77,\n",
       " 'C[S+](F)F': 79,\n",
       " 'O=S(C[O-])CCC[C@@H]1CC[N+]([O-])=NC1': 80,\n",
       " 'CC[S-]': 82,\n",
       " 'Cc1c2c(cc3c1[C@@H](CC1C=CC=C1)[C@H](F)[C@]1(CO1)O3)OCC2': 86,\n",
       " '[S-][NH2+][C@H]1CC2C[C@@H]3C=CC=C[C@@H]3[C@H]2O1': 89,\n",
       " 'CC1CC2C[C@H](CO2)C1': 90,\n",
       " 'C[S@+]([O-])N([O-])CC1=CCCOC1': 93,\n",
       " 'O=P1(c2nc[nH]c2N2C=C[N+]3=C2CCCC3)C2=[N+](CCCC2)CN2CCOCN21': 96,\n",
       " 'CCN1[NH+]=C([O-])SO1': 98}"
      ]
     },
     "execution_count": 212,
     "metadata": {},
     "output_type": "execute_result"
    }
   ],
   "source": [
    "smiles2id"
   ]
  },
  {
   "cell_type": "code",
   "execution_count": 213,
   "metadata": {},
   "outputs": [
    {
     "data": {
      "text/plain": [
       "{'O=C1OCC2(CC2)c2c1cn1ccccc21': 3,\n",
       " 'Cc1cc(-c2ccccc2)cc2c1N(NCF)O[C@H]1CC=N[C@@H]21': 4,\n",
       " 'C[N+]12C[NH2+][C@@H](CN1C[n+]1cccc(=S)c1=S)OC2': 6,\n",
       " 'C[C@@H]1C[C@]12N1CC3CN2N[C@@H](C1)N3': 7,\n",
       " 'O=C1S(c2ccccc2)=[N+]2N=CC=[N+]2OC1(Cl)Cl': 9,\n",
       " 'Cc1cc2c(c1=O)SC(C1C=C1)=[NH+]O2': 10,\n",
       " 'CC([O-])[O-]': 11,\n",
       " 'CBr': 50,\n",
       " 'CC[O-]': 85,\n",
       " 'CC1[C@@H]2CCOCC[C@@H]2CC[C@@]12C=[N+](OC1OO1)c1ccccc12': 15,\n",
       " 'C[C@@H]1CC[C@@H]2CC[C@@H](C1)C2': 18,\n",
       " 'CC1=NCOCc2c1ccc1ccccc21': 21,\n",
       " 'Cc1ccccc1': 22,\n",
       " 'Cc1cc2cssc2n1': 23,\n",
       " 'CI': 24,\n",
       " 'C[C@H]1COC2OC3C=CC(OC3)[C@H]21': 25,\n",
       " 'CC(=c1nnss1)C1CC1': 29,\n",
       " 'C[C@@H]1Cc2nc3cccoc3c2CO1': 34,\n",
       " 'N#[N+][C@@H]1C2C=C[C@@H](C2)C1(F)c1ccc2c(c1)CCCC2': 36,\n",
       " 'C[O-]': 38,\n",
       " 'C[N+](=C1CC2[C@H](S1)[C@H]2c1o[nH][n+]1C)c1ccccc1': 39,\n",
       " 'CF': 40,\n",
       " 'C[C@H]1N[C@@H]2OOS[C@H]2N2CCC3=NCN=NN3[C@H]12': 42,\n",
       " 'C[C@H]1CCCCc2cccc(-c3ccc4cccc5c4c3CC5)c21': 44,\n",
       " 'C[C@H]1Oc2c(ccc(=S)c2=[N+]([O-])F)C2C=CO[C@@H]21': 47,\n",
       " 'N#C[O-]': 49,\n",
       " 'CC1=NNc2ccccc2N1': 51,\n",
       " 'Cc1ooc2o[nH]c(=[N+](C3COOC3)[NH+]3CCC3(CCCCCc3cccc([C@@H]4COC=CO4)c3C3CC3)CC[C@H]3COCCO3)c2c1-c1ccccc1': 52,\n",
       " 'CC': 53,\n",
       " 'O=c1ccc2nnnn[n+]2s1': 55,\n",
       " 'Cl[C@H]1CC2([C@@H]3C[C@@H]1[C@@H](C1CC1)[C@@]31C[NH2+]1)[NH+](c1ccccc1)[N+]21OO1': 58,\n",
       " 'Cc1c(C2CC2)ccc2c1CCC2': 59,\n",
       " 'C=C1O[C@@H]2OCCO[C@@H]2CS1': 61,\n",
       " 'CC1C2OC(c3cccos3)[C@H]([C@@H]3OCC[C@]4(C=Nc5ccooc54)S3)C12': 62,\n",
       " 'O=C1CO[C@@H]2[C@@H]1CCC[C@H]1CC=C[C@H]12': 64,\n",
       " 'C[C@@H]1[NH+]=CN[C@@H]1C1=Nc2ccccc2OCS1': 66,\n",
       " 'C[C@H]1SN=C2c3cccc(-c4ccc5c(c4)OCCC5)c3OCC21': 69,\n",
       " 'CC1C[C@@H]2C[P@](=S)(c3ccccc3)[C@@H](O2)C1=C1N=[N+](c2ccccc2)C=C2C[C@@H]3OSCOC3=[N+]21': 70,\n",
       " 'Cc1cccc[nH+]1': 72,\n",
       " 'CC(=S)N1COO[NH2+]1': 76,\n",
       " 'CO[O-]': 77,\n",
       " 'C[S+](F)F': 79,\n",
       " 'O=S(C[O-])CCC[C@@H]1CC[N+]([O-])=NC1': 80,\n",
       " 'CC[S-]': 82,\n",
       " 'Cc1c2c(cc3c1[C@@H](CC1C=CC=C1)[C@H](F)[C@]1(CO1)O3)OCC2': 86,\n",
       " '[S-][NH2+][C@H]1CC2C[C@@H]3C=CC=C[C@@H]3[C@H]2O1': 89,\n",
       " 'CC1CC2C[C@H](CO2)C1': 90,\n",
       " 'C[S@+]([O-])N([O-])CC1=CCCOC1': 93,\n",
       " 'O=P1(c2nc[nH]c2N2C=C[N+]3=C2CCCC3)C2=[N+](CCCC2)CN2CCOCN21': 96,\n",
       " 'CCN1[NH+]=C([O-])SO1': 98}"
      ]
     },
     "execution_count": 213,
     "metadata": {},
     "output_type": "execute_result"
    }
   ],
   "source": [
    "smiles2id"
   ]
  },
  {
   "cell_type": "code",
   "execution_count": 214,
   "metadata": {},
   "outputs": [],
   "source": [
    "smiles = list(filter(lambda x: x is not None, smiles))"
   ]
  },
  {
   "cell_type": "code",
   "execution_count": 215,
   "metadata": {},
   "outputs": [
    {
     "data": {
      "text/plain": [
       "['O=C1OCC2(CC2)c2c1cn1ccccc21',\n",
       " 'Cc1cc(-c2ccccc2)cc2c1N(NCF)O[C@H]1CC=N[C@@H]21',\n",
       " 'C[N+]12C[NH2+][C@@H](CN1C[n+]1cccc(=S)c1=S)OC2',\n",
       " 'C[C@@H]1C[C@]12N1CC3CN2N[C@@H](C1)N3',\n",
       " 'O=C1S(c2ccccc2)=[N+]2N=CC=[N+]2OC1(Cl)Cl',\n",
       " 'Cc1cc2c(c1=O)SC(C1C=C1)=[NH+]O2',\n",
       " 'CC([O-])[O-]',\n",
       " 'CBr',\n",
       " 'CC[O-]',\n",
       " 'CC1[C@@H]2CCOCC[C@@H]2CC[C@@]12C=[N+](OC1OO1)c1ccccc12',\n",
       " 'C[C@@H]1CC[C@@H]2CC[C@@H](C1)C2',\n",
       " 'CC1=NCOCc2c1ccc1ccccc21',\n",
       " 'Cc1ccccc1',\n",
       " 'Cc1cc2cssc2n1',\n",
       " 'CI',\n",
       " 'C[C@H]1COC2OC3C=CC(OC3)[C@H]21',\n",
       " 'CC(=c1nnss1)C1CC1',\n",
       " 'CBr',\n",
       " 'C[C@@H]1Cc2nc3cccoc3c2CO1',\n",
       " 'N#[N+][C@@H]1C2C=C[C@@H](C2)C1(F)c1ccc2c(c1)CCCC2',\n",
       " 'C[O-]',\n",
       " 'C[N+](=C1CC2[C@H](S1)[C@H]2c1o[nH][n+]1C)c1ccccc1',\n",
       " 'CF',\n",
       " 'C[C@H]1N[C@@H]2OOS[C@H]2N2CCC3=NCN=NN3[C@H]12',\n",
       " 'C[C@H]1CCCCc2cccc(-c3ccc4cccc5c4c3CC5)c21',\n",
       " 'C[C@H]1Oc2c(ccc(=S)c2=[N+]([O-])F)C2C=CO[C@@H]21',\n",
       " 'N#C[O-]',\n",
       " 'CBr',\n",
       " 'CC1=NNc2ccccc2N1',\n",
       " 'Cc1ooc2o[nH]c(=[N+](C3COOC3)[NH+]3CCC3(CCCCCc3cccc([C@@H]4COC=CO4)c3C3CC3)CC[C@H]3COCCO3)c2c1-c1ccccc1',\n",
       " 'CC',\n",
       " 'O=c1ccc2nnnn[n+]2s1',\n",
       " 'Cl[C@H]1CC2([C@@H]3C[C@@H]1[C@@H](C1CC1)[C@@]31C[NH2+]1)[NH+](c1ccccc1)[N+]21OO1',\n",
       " 'Cc1c(C2CC2)ccc2c1CCC2',\n",
       " 'C=C1O[C@@H]2OCCO[C@@H]2CS1',\n",
       " 'CC1C2OC(c3cccos3)[C@H]([C@@H]3OCC[C@]4(C=Nc5ccooc54)S3)C12',\n",
       " 'O=C1CO[C@@H]2[C@@H]1CCC[C@H]1CC=C[C@H]12',\n",
       " 'C[C@@H]1[NH+]=CN[C@@H]1C1=Nc2ccccc2OCS1',\n",
       " 'C[C@H]1SN=C2c3cccc(-c4ccc5c(c4)OCCC5)c3OCC21',\n",
       " 'CC1C[C@@H]2C[P@](=S)(c3ccccc3)[C@@H](O2)C1=C1N=[N+](c2ccccc2)C=C2C[C@@H]3OSCOC3=[N+]21',\n",
       " 'Cc1cccc[nH+]1',\n",
       " 'CC(=S)N1COO[NH2+]1',\n",
       " 'CO[O-]',\n",
       " 'C[S+](F)F',\n",
       " 'O=S(C[O-])CCC[C@@H]1CC[N+]([O-])=NC1',\n",
       " 'CC[S-]',\n",
       " 'CC[O-]',\n",
       " 'Cc1c2c(cc3c1[C@@H](CC1C=CC=C1)[C@H](F)[C@]1(CO1)O3)OCC2',\n",
       " '[S-][NH2+][C@H]1CC2C[C@@H]3C=CC=C[C@@H]3[C@H]2O1',\n",
       " 'CC1CC2C[C@H](CO2)C1',\n",
       " 'C[S@+]([O-])N([O-])CC1=CCCOC1',\n",
       " 'O=P1(c2nc[nH]c2N2C=C[N+]3=C2CCCC3)C2=[N+](CCCC2)CN2CCOCN21',\n",
       " 'CCN1[NH+]=C([O-])SO1']"
      ]
     },
     "execution_count": 215,
     "metadata": {},
     "output_type": "execute_result"
    }
   ],
   "source": [
    "smiles"
   ]
  },
  {
   "cell_type": "code",
   "execution_count": 221,
   "metadata": {},
   "outputs": [],
   "source": [
    "def scoring_func(smiles, loyality):\n",
    "    endpoints = requests.get(\"https://backend.syntelly.com/endpoints\").json()\n",
    "    endpoints_id2name = dict(zip([e['id'] for e in endpoints], [e['view'] for e in endpoints]))\n",
    "    vals_another = requests.post(\"https://backend.syntelly.com/tempSmilesArrToPredict\",\n",
    "                         json={'smiles': smiles}).json()\n",
    "    \n",
    "    for idx in range(len(vals_another)):\n",
    "        elem = vals_another[idx]['data']\n",
    "        for e in elem:\n",
    "            e[\"endpoint_id\"] = endpoints_id2name[e[\"endpoint_id\"]]\n",
    "    e2v = []\n",
    "    for idx in range(len(vals_another)):\n",
    "        e2v.append(dict(zip([e['endpoint_id'] for e in vals_another[idx]['data']], [e['value'] for e in vals_another[idx]['data']])))\n",
    "        \n",
    "    smiles = [val['smiles'] for val in vals_another]\n",
    "    mols = [robust_standardizer(mol) for mol in smiles]\n",
    "    mols = [Chem.MolFromSmiles(mol) for mol in mols]\n",
    "    molecular_weights = [CalcExactMolWt(mol) for mol in mols]\n",
    "    logp = [MolLogP(mol) for mol in mols]\n",
    "    atom_count = [mol.GetNumAtoms() for mol in mols]\n",
    "    molar_reflactivity = [MolMR(mol) for mol in mols]\n",
    "    numRings = [CalcNumRings(mol) for mol in mols]\n",
    "    numRotBonds = [CalcNumRotatableBonds(mol) for mol in mols]\n",
    "    numHAcceptors = [NumHAcceptors(mol) for mol in mols]\n",
    "    numHDonors = [NumHDonors(mol) for mol in mols]\n",
    "    bcf = [e['Bioconcentration factor'] for e in e2v]\n",
    "    dev_tox = [e['Developmental toxicity'] for e in e2v]\n",
    "    flash_point = [e['Flash point'] for e in e2v]\n",
    "    boiling_point = [e['Boiling point'] for e in e2v]\n",
    "    melting_points = [e['Melting point'] for e in e2v]\n",
    "    water_solubility = [e['Water Solubility'] for e in e2v]\n",
    "\n",
    "    result = [0]*len(smiles)\n",
    "    for idx in range(len(smiles)):\n",
    "        val = 0\n",
    "        if(molecular_weights[idx]<=480 and molecular_weights[idx]>=160):\n",
    "            val+=1\n",
    "        if(logp[idx]<=5.6 and logp[idx]>=-0.4):\n",
    "            val+=1\n",
    "        if(atom_count[idx]<=70 and atom_count[idx]>=20):\n",
    "            val+=1\n",
    "        if(molar_reflactivity[idx]>=40 and molar_reflactivity[idx]<=130):\n",
    "            val+=1\n",
    "        if(bcf[idx]<3):\n",
    "            val+=1\n",
    "        if(dev_tox[idx]=='Negative'):\n",
    "            val+=1\n",
    "        if(flash_point[idx]>(350-273.15)):\n",
    "            val+=1\n",
    "        if(boiling_point[idx]>(300-273.15)):\n",
    "            val+=1\n",
    "        if(numRings[idx]>0):\n",
    "            val+=1\n",
    "        if(numRotBonds[idx]<5):\n",
    "            val+=1\n",
    "        if(numHAcceptors[idx]<=10):\n",
    "            val+=1\n",
    "        if(numHDonors[idx]<=5):\n",
    "            val+=1\n",
    "        if(melting_points[idx]>140):\n",
    "            val+=10\n",
    "\n",
    "        if(val>=loyality):\n",
    "            result[idx] = val\n",
    "        return list(zip(smiles, result))\n",
    "\n",
    "    \n",
    "    "
   ]
  },
  {
   "cell_type": "code",
   "execution_count": 222,
   "metadata": {},
   "outputs": [],
   "source": [
    "res = scoring_func(smiles, 12)"
   ]
  },
  {
   "cell_type": "code",
   "execution_count": 220,
   "metadata": {},
   "outputs": [
    {
     "data": {
      "text/plain": [
       "[('O=C1OCC2(CC2)c2c1cn1ccccc21', 20),\n",
       " ('Cc1cc(-c2ccccc2)cc2c1N(NCF)O[C@H]1CC=N[C@@H]21', 0),\n",
       " ('C[N+]12C[NH2+][C@@H](CN1C[n+]1cccc(=S)c1=S)OC2', 0),\n",
       " ('C[C@@H]1C[C@]12N1CC3CN2N[C@@H](C1)N3', 0),\n",
       " ('O=C1S(c2ccccc2)=[N+]2N=CC=[N+]2OC1(Cl)Cl', 0),\n",
       " ('Cc1cc2c(c1=O)SC(C1C=C1)=[NH+]O2', 0),\n",
       " ('CC([O-])[O-]', 0),\n",
       " ('CBr', 0),\n",
       " ('CC[O-]', 0),\n",
       " ('CC1[C@@H]2CCOCC[C@@H]2CC[C@@]12C=[N+](OC1OO1)c1ccccc12', 0),\n",
       " ('C[C@@H]1CC[C@@H]2CC[C@@H](C1)C2', 0),\n",
       " ('CC1=NCOCc2c1ccc1ccccc21', 0),\n",
       " ('Cc1ccccc1', 0),\n",
       " ('Cc1cc2cssc2n1', 0),\n",
       " ('CI', 0),\n",
       " ('C[C@H]1COC2OC3C=CC(OC3)[C@H]21', 0),\n",
       " ('CC(=c1nnss1)C1CC1', 0),\n",
       " ('CBr', 0),\n",
       " ('C[C@@H]1Cc2nc3cccoc3c2CO1', 0),\n",
       " ('N#[N+][C@@H]1C2C=C[C@@H](C2)C1(F)c1ccc2c(c1)CCCC2', 0),\n",
       " ('C[O-]', 0),\n",
       " ('C[N+](=C1CC2[C@H](S1)[C@H]2c1o[nH][n+]1C)c1ccccc1', 0),\n",
       " ('CF', 0),\n",
       " ('C[C@H]1N[C@@H]2OOS[C@H]2N2CCC3=NCN=NN3[C@H]12', 0),\n",
       " ('C[C@H]1CCCCc2cccc(-c3ccc4cccc5c4c3CC5)c21', 0),\n",
       " ('C[C@H]1Oc2c(ccc(=S)c2=[N+]([O-])F)C2C=CO[C@@H]21', 0),\n",
       " ('N#C[O-]', 0),\n",
       " ('CBr', 0),\n",
       " ('CC1=NNc2ccccc2N1', 0),\n",
       " ('Cc1ooc2o[nH]c(=[N+](C3COOC3)[NH+]3CCC3(CCCCCc3cccc([C@@H]4COC=CO4)c3C3CC3)CC[C@H]3COCCO3)c2c1-c1ccccc1',\n",
       "  0),\n",
       " ('CC', 0),\n",
       " ('O=c1ccc2nnnn[n+]2s1', 0),\n",
       " ('Cl[C@H]1CC2([C@@H]3C[C@@H]1[C@@H](C1CC1)[C@@]31C[NH2+]1)[NH+](c1ccccc1)[N+]21OO1',\n",
       "  0),\n",
       " ('Cc1c(C2CC2)ccc2c1CCC2', 0),\n",
       " ('C=C1O[C@@H]2OCCO[C@@H]2CS1', 0),\n",
       " ('CC1C2OC(c3cccos3)[C@H]([C@@H]3OCC[C@]4(C=Nc5ccooc54)S3)C12', 0),\n",
       " ('O=C1CO[C@@H]2[C@@H]1CCC[C@H]1CC=C[C@H]12', 0),\n",
       " ('C[C@@H]1[NH+]=CN[C@@H]1C1=Nc2ccccc2OCS1', 0),\n",
       " ('C[C@H]1SN=C2c3cccc(-c4ccc5c(c4)OCCC5)c3OCC21', 0),\n",
       " ('CC1C[C@@H]2C[P@](=S)(c3ccccc3)[C@@H](O2)C1=C1N=[N+](c2ccccc2)C=C2C[C@@H]3OSCOC3=[N+]21',\n",
       "  0),\n",
       " ('Cc1cccc[nH+]1', 0),\n",
       " ('CC(=S)N1COO[NH2+]1', 0),\n",
       " ('CO[O-]', 0),\n",
       " ('C[S+](F)F', 0),\n",
       " ('O=S(C[O-])CCC[C@@H]1CC[N+]([O-])=NC1', 0),\n",
       " ('CC[S-]', 0),\n",
       " ('CC[O-]', 0),\n",
       " ('Cc1c2c(cc3c1[C@@H](CC1C=CC=C1)[C@H](F)[C@]1(CO1)O3)OCC2', 0),\n",
       " ('[S-][NH2+][C@H]1CC2C[C@@H]3C=CC=C[C@@H]3[C@H]2O1', 0),\n",
       " ('CC1CC2C[C@H](CO2)C1', 0),\n",
       " ('C[S@+]([O-])N([O-])CC1=CCCOC1', 0),\n",
       " ('O=P1(c2nc[nH]c2N2C=C[N+]3=C2CCCC3)C2=[N+](CCCC2)CN2CCOCN21', 0),\n",
       " ('CCN1[NH+]=C([O-])SO1', 0)]"
      ]
     },
     "execution_count": 220,
     "metadata": {},
     "output_type": "execute_result"
    }
   ],
   "source": [
    "val = "
   ]
  },
  {
   "cell_type": "code",
   "execution_count": 227,
   "metadata": {},
   "outputs": [],
   "source": [
    "val = [0]*100"
   ]
  },
  {
   "cell_type": "code",
   "execution_count": 228,
   "metadata": {},
   "outputs": [],
   "source": [
    "for elem in res:\n",
    "    val[smiles2id[elem[0]]] = elem[1]"
   ]
  },
  {
   "cell_type": "code",
   "execution_count": 153,
   "metadata": {},
   "outputs": [
    {
     "data": {
      "text/plain": [
       "58"
      ]
     },
     "execution_count": 153,
     "metadata": {},
     "output_type": "execute_result"
    }
   ],
   "source": [
    "len(smiles)"
   ]
  },
  {
   "cell_type": "code",
   "execution_count": 144,
   "metadata": {},
   "outputs": [],
   "source": [
    "mol = Chem.MolFromSmiles(\"Cc1[nH]cc(=NS)o1\")"
   ]
  },
  {
   "cell_type": "code",
   "execution_count": 146,
   "metadata": {},
   "outputs": [
    {
     "data": {
      "text/plain": [
       "True"
      ]
     },
     "execution_count": 146,
     "metadata": {},
     "output_type": "execute_result"
    }
   ],
   "source": [
    "mol is None"
   ]
  },
  {
   "cell_type": "code",
   "execution_count": 155,
   "metadata": {
    "collapsed": true,
    "jupyter": {
     "outputs_hidden": true
    }
   },
   "outputs": [
    {
     "data": {
      "text/plain": [
       "['Nc1cccc(F)c1',\n",
       " 'C[C@H](C1CCCC1)C1CCC1',\n",
       " 'C[C@@H]1COOOO1',\n",
       " 'CC[O-]',\n",
       " 'C=C1C(=[NH+][C@H](C)CC)[C@H]2C(=O)N=C(C=Nc3c4c(cc5c(=O)ccc35)C(C)(C(C)C)C(O)(CC)O4)[NH+]12',\n",
       " 'O=S',\n",
       " 'C[N+]1=NCCC12OOC[C@@]1(C[C@@]13CO3)N([O-])N2O',\n",
       " 'CN(c1ccc2c(c1)SCC2)C1CCCCC1',\n",
       " 'CC[O-]',\n",
       " 'CC[O-]',\n",
       " 'Cc1snc2c(=S)ccc3cccc1N32',\n",
       " 'Oc1coo[nH]o1',\n",
       " 'C[O-]',\n",
       " 'C[S@+](C[O-])C1OO1',\n",
       " 'C[C@@H]1CSSOc2ccncc21',\n",
       " 'Cc1ccc2c(c1)cc1cc3c(CO)cc(=S)cc3cc12',\n",
       " 'Cc1ccc2c(c1)[NH2+]C[C@H]1Cc3cccc(C(C)(COCOF)C4CCCC4)c3[C@H]21',\n",
       " 'C[C@H]1[NH2+][C@@H]2N=[NH+][C@H]1O2',\n",
       " 'CC[O-]',\n",
       " 'CN1N=[N+]2CNC=[N+]2[N+](c2c(O)cccc2F)=C1[O-]',\n",
       " 'Cc1cc2c(o1)OOC[C@@]21O[C@@H](C([O-])(Cl)C([O-])(F)C#N)OOO[C@@H]1c1ccc(=O)[n-]c1',\n",
       " 'CC1=N[C@]2(OCC(C)c3ncc(=S)c32)OO1',\n",
       " 'O=C1N=N[C@@H]2C1C=C([O-])[C@@H]2N1CN1',\n",
       " 'CC1CC=C2CCCC[C@@H](P3([O-])=CCCCOO3)[C@H]21',\n",
       " 'Br[C@@H]1CP2(c3ccccc3)=C(CO1)OCO2',\n",
       " 'C[C@@H]1C2C[C@]3(C=N2)[C@H]1CCC31CCCC2=c3ccccc3=N[C@@H]21',\n",
       " 'CN1NN2C[C@@H](N[S+]2NN2OC[C@@H](NF)O2)P12(NNN1O[NH+]3OO[NH+]1N=[N+]3[O-])N[NH+](O)OO2',\n",
       " '[O-]F',\n",
       " 'C[NH+]1CCC2=NC3(OCCOOOO3)OOC21',\n",
       " 'C[C@H]1[C@H](c2cc3cc(=Nc4cccc4=S)c(=O)c(=S)c3c2)[C@@H]1C1OCS(=O)(=[N+](F)F)O1',\n",
       " 'C[n+]1cc2cc3nnccc3c2n1',\n",
       " 'CN1C2=C(CCCC2)Cc2occc21',\n",
       " 'C[C@@]1(F)[NH+]=C[n+]2c(c([O-])cc2=O)[C@@]12CC(=O)S[C@@H]([N+]1(C(Cl)(c3ccccc3)n3cc(-c4cc(F)c(=S)c(=O)c4)c(=S)c(=O)c3=O)CCO1)C2',\n",
       " 'Cc1c2c(c(-c3nnncc3-c3ccccc3)c3ccccc13)CSN2',\n",
       " 'CC1OOC2=C(CC=N2)[C@]1([C@H]1OOO[N+]12CO2)[n+]1ccccc1',\n",
       " 'Cc1cc2c(n1F)SC[P@@]([O-])(=[NH+]OF)C2',\n",
       " 'C[O-]',\n",
       " 'CN1N[C@@]12N=NCC21CCC1',\n",
       " 'C[C@@H]1[C@@H]2S[N-][NH+](F)[C@@H]1O[C@]21CO[NH2+]C12Cc1c(cc(C[O-])c3ccccc13)CO2',\n",
       " 'C[C@H]1C[N+]2=C(CO)[NH2+]N3N4N[NH2+]ON4O[NH2+][NH+]3N2C([O-])([O-])O1',\n",
       " 'CC(S)=C[S-]',\n",
       " 'CC1([S-])C(=S)[NH+]=Cc2ccn(F)c21',\n",
       " 'CC[C@H](C)c1ccccc1',\n",
       " 'Cc1cc(=S)c2cc3ccc(C4C[NH2+]4)cc3cc2s1',\n",
       " 'C[C@H]1CC[N+]2(CC23O[C@@H]3c2cosoo2)C2=c3ccccc3=C[C@H]21',\n",
       " 'Cc1nc2oc3ooosc3c(=S)c2c1=O',\n",
       " 'CC(C[O-])(C1=CC=COCC1)C([O-])([O-])Cn1ccc(=O)c(=O)c1=O',\n",
       " 'N#C[O-]',\n",
       " 'O=C1C=CC=C2C=[N+](c3ccccc3)C[C@@H]12',\n",
       " 'Cn1c2ccccc2c2ccccc21',\n",
       " 'C[C@@]1(C2C[C@@H]3OO[C@@H]2O3)CO[C@H]2CNC[C@H]21',\n",
       " 'CS',\n",
       " 'O=C1CO[C@H]2SOOOO[C@H]12',\n",
       " 'Cc1ccc2cccc12',\n",
       " 'C#Cc1ccc2cc3c(cc2c1)OOO[C@@H]3c1cc(=S)c(=O)c(=C([O-])c2cc(=O)c(=O)c(=O)o2)c1=S',\n",
       " 'C[C@@H]1C(=[NH+]C2OO2)P2([C@H]3COCS3)(OO2)Sc2cc3ccccc3cc21',\n",
       " 'S=C1c2ccc(=C3OCc4c3c(=S)ccc4=S)c2CC[N+]12CC2',\n",
       " 'Cc1cccc(C2C[NH2+]2)c1C']"
      ]
     },
     "execution_count": 155,
     "metadata": {},
     "output_type": "execute_result"
    }
   ],
   "source": [
    "smiles"
   ]
  },
  {
   "cell_type": "code",
   "execution_count": 168,
   "metadata": {},
   "outputs": [
    {
     "name": "stdout",
     "output_type": "stream",
     "text": [
      "{58: 'Density', 59: '40 hour Tetrahymena pyriformis IGC50', 61: 'Viscosity', 63: 'Water solubility', 64: 'Surface tension', 65: 'Vapor pressure', 66: '96 hour fathead minnow LC50', 68: ' Thermal conductivity', 35: 'Boiling Point (std.)', 67: 'Melting point', 70: 'LogP octanol-water', 73: 'CYP450', 74: 'CYP1A2', 75: 'CYP2C19', 76: 'CYP2C9', 77: 'CYP2D6', 78: 'CYP3A4', 62: '48 hour Daphnia magna LC50', 60: 'Ames test', 71: 'Soluble in DMSO', 79: '250KDummyAllZeros', 80: 'Retention time', 37: None, 36: None, 39: 'Super Test', 38: 'Water Solubility', 40: 'Vapor Pressure', 50: None, 53: 'Boiling point', 54: 'Flash point', 55: 'Bioconcentration factor', 57: 'Developmental toxicity'}\n"
     ]
    }
   ],
   "source": []
  },
  {
   "cell_type": "code",
   "execution_count": null,
   "metadata": {},
   "outputs": [],
   "source": []
  },
  {
   "cell_type": "code",
   "execution_count": 176,
   "metadata": {},
   "outputs": [],
   "source": [
    "\n",
    "for idx in range(len(vals_another)):\n",
    "    elem = vals_another[idx]['data']\n",
    "    for e in elem:\n",
    "        e[\"endpoint_id\"] = endpoints_id2name[e[\"endpoint_id\"]]\n",
    "e2v = []\n",
    "for idx in range(len(vals_another)):\n",
    "    e2v.append(dict(zip([e['endpoint_id'] for e in vals_another[idx]['data']], [e['value'] for e in vals_another[idx]['data']])))"
   ]
  },
  {
   "cell_type": "code",
   "execution_count": 177,
   "metadata": {},
   "outputs": [
    {
     "data": {
      "text/plain": [
       "[{'endpoint_id': 'Water Solubility', 'units': 'LogS', 'value': -0.7},\n",
       " {'endpoint_id': 'Vapor Pressure', 'units': 'log(mmHg)', 'value': -0.6},\n",
       " {'endpoint_id': 'Boiling point', 'units': 'Celsius', 'value': 187},\n",
       " {'endpoint_id': 'Flash point', 'units': 'Celsius', 'value': 70},\n",
       " {'endpoint_id': 'Bioconcentration factor',\n",
       "  'units': 'Log10(BCF)',\n",
       "  'value': 0.8},\n",
       " {'endpoint_id': 'Density', 'units': 'g/cm3', 'value': 1.16},\n",
       " {'endpoint_id': '40 hour Tetrahymena pyriformis IGC50',\n",
       "  'units': 'Log10 (IGC50 mol/L)',\n",
       "  'value': 2.9},\n",
       " {'endpoint_id': 'Developmental toxicity', 'units': '', 'value': 'Negative'},\n",
       " {'endpoint_id': 'Ames test', 'units': '', 'value': 'Negative'},\n",
       " {'endpoint_id': 'Viscosity', 'units': 'log10(viscosity cP)', 'value': 0.5},\n",
       " {'endpoint_id': '48 hour Daphnia magna LC50',\n",
       "  'units': 'Log10 (LC50 mol/L)',\n",
       "  'value': 4},\n",
       " {'endpoint_id': 'Melting point', 'units': 'Celsius', 'value': 0},\n",
       " {'endpoint_id': 'CYP1A2', 'units': '', 'value': 'Noninhibitor'},\n",
       " {'endpoint_id': 'CYP2C19', 'units': '', 'value': 'Noninhibitor'},\n",
       " {'endpoint_id': 'CYP2C9', 'units': '', 'value': 'Noninhibitor'},\n",
       " {'endpoint_id': 'CYP2D6', 'units': '', 'value': 'Noninhibitor'},\n",
       " {'endpoint_id': 'CYP3A4', 'units': '', 'value': 'Noninhibitor'},\n",
       " {'endpoint_id': 'LogP octanol-water', 'units': 'logP', 'value': 1.4},\n",
       " {'endpoint_id': 'Soluble in DMSO', 'units': '', 'value': 'Soluble'},\n",
       " {'endpoint_id': 'Retention time', 'units': 's', 'value': 590}]"
      ]
     },
     "execution_count": 177,
     "metadata": {},
     "output_type": "execute_result"
    }
   ],
   "source": [
    "vals_another[0]['data']"
   ]
  },
  {
   "cell_type": "code",
   "execution_count": 189,
   "metadata": {},
   "outputs": [],
   "source": [
    "#def scoring_func(smiles):\n",
    "loyality = 12\n",
    "smiles = [val['smiles'] for val in vals_another]\n",
    "mols = [robust_standardizer(mol) for mol in smiles]\n",
    "mols = [Chem.MolFromSmiles(mol) for mol in mols]\n",
    "molecular_weights = [CalcExactMolWt(mol) for mol in mols]\n",
    "logp = [MolLogP(mol) for mol in mols]\n",
    "atom_count = [mol.GetNumAtoms() for mol in mols]\n",
    "molar_reflactivity = [MolMR(mol) for mol in mols]\n",
    "numRings = [CalcNumRings(mol) for mol in mols]\n",
    "numRotBonds = [CalcNumRotatableBonds(mol) for mol in mols]\n",
    "numHAcceptors = [NumHAcceptors(mol) for mol in mols]\n",
    "numHDonors = [NumHDonors(mol) for mol in mols]\n",
    "bcf = [e['Bioconcentration factor'] for e in e2v]\n",
    "dev_tox = [e['Developmental toxicity'] for e in e2v]\n",
    "flash_point = [e['Flash point'] for e in e2v]\n",
    "boiling_point = [e['Boiling point'] for e in e2v]\n",
    "melting_points = [e['Melting point'] for e in e2v]\n",
    "water_solubility = [e['Water Solubility'] for e in e2v]\n",
    "\n",
    "result = [0]*len(smiles)\n",
    "for idx in range(len(smiles)):\n",
    "    val = 0\n",
    "    if(molecular_weights[idx]<=480 and molecular_weights[idx]>=160):\n",
    "        val+=1\n",
    "    if(logp[idx]<=5.6 and logp[idx]>=-0.4):\n",
    "        val+=1\n",
    "    if(atom_count[idx]<=70 and atom_count[idx]>=20):\n",
    "        val+=1\n",
    "    if(molar_reflactivity[idx]>=40 and molar_reflactivity[idx]<=130):\n",
    "        val+=1\n",
    "    if(bcf[idx]<3):\n",
    "        val+=1\n",
    "    if(dev_tox[idx]=='Negative'):\n",
    "        val+=1\n",
    "    if(flash_point[idx]>(350-273.15)):\n",
    "        val+=1\n",
    "    if(boiling_point[idx]>(300-273.15)):\n",
    "        val+=1\n",
    "    if(numRings[idx]>0):\n",
    "        val+=1\n",
    "    if(numRotBonds[idx]<5):\n",
    "        val+=1\n",
    "    if(numHAcceptors[idx]<=10):\n",
    "        val+=1\n",
    "    if(numHDonors[idx]<=5):\n",
    "        val+=1\n",
    "    if(melting_points[idx]>140):\n",
    "        val+=10\n",
    "\n",
    "    if(val>=loyality):\n",
    "        result[idx] = val\n",
    "\n"
   ]
  },
  {
   "cell_type": "code",
   "execution_count": 191,
   "metadata": {},
   "outputs": [
    {
     "data": {
      "text/plain": [
       "[0,\n",
       " 0,\n",
       " 0,\n",
       " 0,\n",
       " 18,\n",
       " 0,\n",
       " 19,\n",
       " 0,\n",
       " 0,\n",
       " 0,\n",
       " 20,\n",
       " 19,\n",
       " 0,\n",
       " 0,\n",
       " 0,\n",
       " 21,\n",
       " 0,\n",
       " 17,\n",
       " 0,\n",
       " 19,\n",
       " 19,\n",
       " 20,\n",
       " 18,\n",
       " 0,\n",
       " 0,\n",
       " 21,\n",
       " 16,\n",
       " 0,\n",
       " 19,\n",
       " 20,\n",
       " 20,\n",
       " 0,\n",
       " 18,\n",
       " 21,\n",
       " 21,\n",
       " 20,\n",
       " 0,\n",
       " 0,\n",
       " 21,\n",
       " 18,\n",
       " 0,\n",
       " 20,\n",
       " 0,\n",
       " 20,\n",
       " 21,\n",
       " 20,\n",
       " 0,\n",
       " 0,\n",
       " 0,\n",
       " 0,\n",
       " 0,\n",
       " 0,\n",
       " 0,\n",
       " 0,\n",
       " 19,\n",
       " 21,\n",
       " 21,\n",
       " 0]"
      ]
     },
     "execution_count": 191,
     "metadata": {},
     "output_type": "execute_result"
    }
   ],
   "source": [
    "result"
   ]
  },
  {
   "cell_type": "code",
   "execution_count": 182,
   "metadata": {},
   "outputs": [
    {
     "name": "stdout",
     "output_type": "stream",
     "text": [
      "{58: 'Density', 59: '40 hour Tetrahymena pyriformis IGC50', 61: 'Viscosity', 63: 'Water solubility', 64: 'Surface tension', 65: 'Vapor pressure', 66: '96 hour fathead minnow LC50', 68: ' Thermal conductivity', 35: 'Boiling Point (std.)', 67: 'Melting point', 70: 'LogP octanol-water', 73: 'CYP450', 74: 'CYP1A2', 75: 'CYP2C19', 76: 'CYP2C9', 77: 'CYP2D6', 78: 'CYP3A4', 62: '48 hour Daphnia magna LC50', 60: 'Ames test', 71: 'Soluble in DMSO', 79: '250KDummyAllZeros', 80: 'Retention time', 37: None, 36: None, 39: 'Super Test', 38: 'Water Solubility', 40: 'Vapor Pressure', 50: None, 53: 'Boiling point', 54: 'Flash point', 55: 'Bioconcentration factor', 57: 'Developmental toxicity'}\n"
     ]
    },
    {
     "ename": "KeyError",
     "evalue": "'Bioconcentration factor'",
     "output_type": "error",
     "traceback": [
      "\u001b[0;31m---------------------------------------------------------------------------\u001b[0m",
      "\u001b[0;31mKeyError\u001b[0m                                  Traceback (most recent call last)",
      "\u001b[0;32m<ipython-input-182-ab7fa0024aed>\u001b[0m in \u001b[0;36m<module>\u001b[0;34m\u001b[0m\n\u001b[0;32m----> 1\u001b[0;31m \u001b[0mres\u001b[0m \u001b[0;34m=\u001b[0m \u001b[0mscoring_func\u001b[0m\u001b[0;34m(\u001b[0m\u001b[0msmiles\u001b[0m\u001b[0;34m)\u001b[0m\u001b[0;34m\u001b[0m\u001b[0;34m\u001b[0m\u001b[0m\n\u001b[0m",
      "\u001b[0;32m<ipython-input-162-ab9456fdd56b>\u001b[0m in \u001b[0;36mscoring_func\u001b[0;34m(smiles)\u001b[0m\n\u001b[1;32m     23\u001b[0m     \u001b[0mnumHAcceptors\u001b[0m \u001b[0;34m=\u001b[0m \u001b[0;34m[\u001b[0m\u001b[0mNumHAcceptors\u001b[0m\u001b[0;34m(\u001b[0m\u001b[0mmol\u001b[0m\u001b[0;34m)\u001b[0m \u001b[0;32mfor\u001b[0m \u001b[0mmol\u001b[0m \u001b[0;32min\u001b[0m \u001b[0mmols\u001b[0m\u001b[0;34m]\u001b[0m\u001b[0;34m\u001b[0m\u001b[0;34m\u001b[0m\u001b[0m\n\u001b[1;32m     24\u001b[0m     \u001b[0mnumHDonors\u001b[0m \u001b[0;34m=\u001b[0m \u001b[0;34m[\u001b[0m\u001b[0mNumHDonors\u001b[0m\u001b[0;34m(\u001b[0m\u001b[0mmol\u001b[0m\u001b[0;34m)\u001b[0m \u001b[0;32mfor\u001b[0m \u001b[0mmol\u001b[0m \u001b[0;32min\u001b[0m \u001b[0mmols\u001b[0m\u001b[0;34m]\u001b[0m\u001b[0;34m\u001b[0m\u001b[0;34m\u001b[0m\u001b[0m\n\u001b[0;32m---> 25\u001b[0;31m     \u001b[0mbcf\u001b[0m \u001b[0;34m=\u001b[0m \u001b[0;34m[\u001b[0m\u001b[0me\u001b[0m\u001b[0;34m[\u001b[0m\u001b[0;34m'Bioconcentration factor'\u001b[0m\u001b[0;34m]\u001b[0m \u001b[0;32mfor\u001b[0m \u001b[0me\u001b[0m \u001b[0;32min\u001b[0m \u001b[0me2v\u001b[0m\u001b[0;34m]\u001b[0m\u001b[0;34m\u001b[0m\u001b[0;34m\u001b[0m\u001b[0m\n\u001b[0m\u001b[1;32m     26\u001b[0m     \u001b[0mdev_tox\u001b[0m \u001b[0;34m=\u001b[0m \u001b[0;34m[\u001b[0m\u001b[0me\u001b[0m\u001b[0;34m[\u001b[0m\u001b[0;34m'Developmental toxicity'\u001b[0m\u001b[0;34m]\u001b[0m \u001b[0;32mfor\u001b[0m \u001b[0me\u001b[0m \u001b[0;32min\u001b[0m \u001b[0me2v\u001b[0m\u001b[0;34m]\u001b[0m\u001b[0;34m\u001b[0m\u001b[0;34m\u001b[0m\u001b[0m\n\u001b[1;32m     27\u001b[0m     \u001b[0mflash_point\u001b[0m \u001b[0;34m=\u001b[0m \u001b[0;34m[\u001b[0m\u001b[0me\u001b[0m\u001b[0;34m[\u001b[0m\u001b[0;34m'Flash point'\u001b[0m\u001b[0;34m]\u001b[0m \u001b[0;32mfor\u001b[0m \u001b[0me\u001b[0m \u001b[0;32min\u001b[0m \u001b[0me2v\u001b[0m\u001b[0;34m]\u001b[0m\u001b[0;34m\u001b[0m\u001b[0;34m\u001b[0m\u001b[0m\n",
      "\u001b[0;32m<ipython-input-162-ab9456fdd56b>\u001b[0m in \u001b[0;36m<listcomp>\u001b[0;34m(.0)\u001b[0m\n\u001b[1;32m     23\u001b[0m     \u001b[0mnumHAcceptors\u001b[0m \u001b[0;34m=\u001b[0m \u001b[0;34m[\u001b[0m\u001b[0mNumHAcceptors\u001b[0m\u001b[0;34m(\u001b[0m\u001b[0mmol\u001b[0m\u001b[0;34m)\u001b[0m \u001b[0;32mfor\u001b[0m \u001b[0mmol\u001b[0m \u001b[0;32min\u001b[0m \u001b[0mmols\u001b[0m\u001b[0;34m]\u001b[0m\u001b[0;34m\u001b[0m\u001b[0;34m\u001b[0m\u001b[0m\n\u001b[1;32m     24\u001b[0m     \u001b[0mnumHDonors\u001b[0m \u001b[0;34m=\u001b[0m \u001b[0;34m[\u001b[0m\u001b[0mNumHDonors\u001b[0m\u001b[0;34m(\u001b[0m\u001b[0mmol\u001b[0m\u001b[0;34m)\u001b[0m \u001b[0;32mfor\u001b[0m \u001b[0mmol\u001b[0m \u001b[0;32min\u001b[0m \u001b[0mmols\u001b[0m\u001b[0;34m]\u001b[0m\u001b[0;34m\u001b[0m\u001b[0;34m\u001b[0m\u001b[0m\n\u001b[0;32m---> 25\u001b[0;31m     \u001b[0mbcf\u001b[0m \u001b[0;34m=\u001b[0m \u001b[0;34m[\u001b[0m\u001b[0me\u001b[0m\u001b[0;34m[\u001b[0m\u001b[0;34m'Bioconcentration factor'\u001b[0m\u001b[0;34m]\u001b[0m \u001b[0;32mfor\u001b[0m \u001b[0me\u001b[0m \u001b[0;32min\u001b[0m \u001b[0me2v\u001b[0m\u001b[0;34m]\u001b[0m\u001b[0;34m\u001b[0m\u001b[0;34m\u001b[0m\u001b[0m\n\u001b[0m\u001b[1;32m     26\u001b[0m     \u001b[0mdev_tox\u001b[0m \u001b[0;34m=\u001b[0m \u001b[0;34m[\u001b[0m\u001b[0me\u001b[0m\u001b[0;34m[\u001b[0m\u001b[0;34m'Developmental toxicity'\u001b[0m\u001b[0;34m]\u001b[0m \u001b[0;32mfor\u001b[0m \u001b[0me\u001b[0m \u001b[0;32min\u001b[0m \u001b[0me2v\u001b[0m\u001b[0;34m]\u001b[0m\u001b[0;34m\u001b[0m\u001b[0;34m\u001b[0m\u001b[0m\n\u001b[1;32m     27\u001b[0m     \u001b[0mflash_point\u001b[0m \u001b[0;34m=\u001b[0m \u001b[0;34m[\u001b[0m\u001b[0me\u001b[0m\u001b[0;34m[\u001b[0m\u001b[0;34m'Flash point'\u001b[0m\u001b[0;34m]\u001b[0m \u001b[0;32mfor\u001b[0m \u001b[0me\u001b[0m \u001b[0;32min\u001b[0m \u001b[0me2v\u001b[0m\u001b[0;34m]\u001b[0m\u001b[0;34m\u001b[0m\u001b[0;34m\u001b[0m\u001b[0m\n",
      "\u001b[0;31mKeyError\u001b[0m: 'Bioconcentration factor'"
     ]
    }
   ],
   "source": [
    "res = scoring_func(smiles)"
   ]
  },
  {
   "cell_type": "code",
   "execution_count": null,
   "metadata": {},
   "outputs": [],
   "source": []
  },
  {
   "cell_type": "code",
   "execution_count": null,
   "metadata": {},
   "outputs": [],
   "source": [
    "print(f\"round {round}\")\n",
    "number_generate = 100\n",
    "endp = torch.tensor(scaler.transform(np.array([conditions[:-1]])))\n",
    "print(endp.shape)\n",
    "\n",
    "c = deepcopy(endp)\n",
    "c = [str(l) for l in list(c.numpy())]\n",
    "#endp = endp.unsqueeze(0)\n",
    "endp = endp.repeat(100,1)\n",
    "endp = endp.unsqueeze(0)\n",
    "endp = endp.repeat(3, 1, 1)\n",
    "\n",
    "endp = endp.float()\n",
    "endp = endp.cuda()\n",
    "res = model.sample(endp, number_generate, dataset.model)\n",
    "valid = len(res) * 100 / number_generate\n",
    "print(\"valid : {} %\".format(valid))\n",
    "#writer.add_scalar(\"Valid\", valid, cnt)\n",
    "res = [robust_standardizer(mol) for mol in res]\n",
    "res = list(filter(lambda x: x is not None, res))\n",
    "mols  =res\n",
    "print(\"Mols obtained\")\n",
    "print(mols)\n",
    "vals_another = requests.post(\"https://backend.syntelly.com/tempSmilesArrToPredict\",\n",
    "                             json={'smiles': mols}).json()\n",
    "for idx in range(len(vals_another)):\n",
    "    elem = vals_another[idx]['data']\n",
    "    for e in elem:\n",
    "        e[\"endpoint_id\"] = endpoints_id2name[e[\"endpoint_id\"]]\n",
    "e2v = []\n",
    "for idx in range(len(vals_another)):\n",
    "    e2v.append(dict(zip([e['endpoint_id'] for e in vals_another[idx]['data']], [e['value'] for e in vals_another[idx]['data']])))\n",
    "smiles = [val['smiles'] for val in vals_another]\n",
    "mols = [robust_standardizer(mol) for mol in smiles]\n",
    "mols = [Chem.MolFromSmiles(mol) for mol in mols]\n",
    "molecular_weights = [CalcExactMolWt(mol) for mol in mols]\n",
    "logp = [MolLogP(mol) for mol in mols]\n",
    "atom_count = [mol.GetNumAtoms() for mol in mols]\n",
    "molar_reflactivity = [MolMR(mol) for mol in mols]\n",
    "numRings = [CalcNumRings(mol) for mol in mols]\n",
    "numRotBonds = [CalcNumRotatableBonds(mol) for mol in mols]\n",
    "numHAcceptors = [NumHAcceptors(mol) for mol in mols]\n",
    "numHDonors = [NumHDonors(mol) for mol in mols]\n",
    "bcf = [e['Bioconcentration factor'] for e in e2v]\n",
    "dev_tox = [e['Developmental toxicity'] for e in e2v]\n",
    "flash_point = [e['Flash point'] for e in e2v]\n",
    "boiling_point = [e['Boiling point'] for e in e2v]\n",
    "melting_points = [e['Melting point'] for e in e2v]\n",
    "water_solubility = [e['Water Solubility'] for e in e2v]\n",
    "\n",
    "result = [0]*len(smiles)\n",
    "for idx in range(len(smiles)):\n",
    "    val = 0\n",
    "    if(molecular_weights[idx]<=480 and molecular_weights[idx]>=160):\n",
    "        val+=1\n",
    "    if(logp[idx]<=5.6 and logp[idx]>=-0.4):\n",
    "        val+=1\n",
    "    if(atom_count[idx]<=70 and atom_count[idx]>=20):\n",
    "        val+=1\n",
    "    if(molar_reflactivity[idx]>=40 and molar_reflactivity[idx]<=130):\n",
    "        val+=1\n",
    "    if(bcf[idx]<3):\n",
    "        val+=1\n",
    "    if(dev_tox[idx]=='Negative'):\n",
    "        val+=1\n",
    "    if(flash_point[idx]>(350-273.15)):\n",
    "        val+=1\n",
    "    if(boiling_point[idx]>(300-273.15)):\n",
    "        val+=1\n",
    "    if(numRings[idx]>0):\n",
    "        val+=1\n",
    "    if(numRotBonds[idx]<5):\n",
    "        val+=1\n",
    "    if(numHAcceptors[idx]<=10):\n",
    "        val+=1\n",
    "    if(numHDonors[idx]<=5):\n",
    "        val+=1\n",
    "\n",
    "    if(val/12>=loyality):\n",
    "        result[idx] = val\n",
    "\n",
    "print(result)\n",
    "for idx in range(len(result)):\n",
    "    if (result[idx]>0):\n",
    "        result_arr.append((smiles[idx], result[idx], (melting_points[idx], boiling_point[idx], water_solubility[idx]), mean_squared_error(\n",
    "            scaler.transform(np.array([[melting_points[idx], boiling_point[idx], water_solubility[idx]]])), scaler.transform(np.array([conditions[:-1]]))\n",
    "        )))\n",
    "\n",
    "result_arr.sort(key = lambda x: x[3])\n",
    "\n",
    "print(result_arr[:10])\n"
   ]
  },
  {
   "cell_type": "code",
   "execution_count": null,
   "metadata": {},
   "outputs": [],
   "source": []
  },
  {
   "cell_type": "code",
   "execution_count": null,
   "metadata": {},
   "outputs": [],
   "source": []
  },
  {
   "cell_type": "code",
   "execution_count": null,
   "metadata": {},
   "outputs": [],
   "source": []
  },
  {
   "cell_type": "code",
   "execution_count": null,
   "metadata": {},
   "outputs": [],
   "source": []
  },
  {
   "cell_type": "code",
   "execution_count": 40,
   "metadata": {},
   "outputs": [
    {
     "ename": "IndexError",
     "evalue": "list index out of range",
     "output_type": "error",
     "traceback": [
      "\u001b[0;31m---------------------------------------------------------------------------\u001b[0m",
      "\u001b[0;31mIndexError\u001b[0m                                Traceback (most recent call last)",
      "\u001b[0;32m<ipython-input-40-8ed10283ceb4>\u001b[0m in \u001b[0;36m<module>\u001b[0;34m\u001b[0m\n\u001b[0;32m----> 1\u001b[0;31m \u001b[0mdataset\u001b[0m\u001b[0;34m.\u001b[0m\u001b[0mmodel\u001b[0m\u001b[0;34m.\u001b[0m\u001b[0mdecode\u001b[0m\u001b[0;34m(\u001b[0m\u001b[0melem\u001b[0m\u001b[0;34m)\u001b[0m\u001b[0;34m\u001b[0m\u001b[0;34m\u001b[0m\u001b[0m\n\u001b[0m",
      "\u001b[0;32m~/yes/lib/python3.7/site-packages/legogram-0.9.0-py3.7.egg/legogram/apps/rnn_sampler.py\u001b[0m in \u001b[0;36mdecode\u001b[0;34m(self, code)\u001b[0m\n\u001b[1;32m     12\u001b[0m \u001b[0;34m\u001b[0m\u001b[0m\n\u001b[1;32m     13\u001b[0m     \u001b[0;32mdef\u001b[0m \u001b[0mdecode\u001b[0m \u001b[0;34m(\u001b[0m\u001b[0mself\u001b[0m\u001b[0;34m,\u001b[0m \u001b[0mcode\u001b[0m\u001b[0;34m)\u001b[0m\u001b[0;34m:\u001b[0m\u001b[0;34m\u001b[0m\u001b[0;34m\u001b[0m\u001b[0m\n\u001b[0;32m---> 14\u001b[0;31m         \u001b[0;32mreturn\u001b[0m \u001b[0mself\u001b[0m\u001b[0;34m.\u001b[0m\u001b[0mlg\u001b[0m\u001b[0;34m.\u001b[0m\u001b[0mdecode\u001b[0m\u001b[0;34m(\u001b[0m\u001b[0;34m[\u001b[0m\u001b[0mc\u001b[0m \u001b[0;34m-\u001b[0m \u001b[0mself\u001b[0m\u001b[0;34m.\u001b[0m\u001b[0mnspecs\u001b[0m \u001b[0;32mfor\u001b[0m \u001b[0mc\u001b[0m \u001b[0;32min\u001b[0m \u001b[0mcode\u001b[0m\u001b[0;34m]\u001b[0m\u001b[0;34m)\u001b[0m\u001b[0;34m\u001b[0m\u001b[0;34m\u001b[0m\u001b[0m\n\u001b[0m\u001b[1;32m     15\u001b[0m         \u001b[0;31m#return self.lg.decode([c-self.nspecs for c in code])\u001b[0m\u001b[0;34m\u001b[0m\u001b[0;34m\u001b[0m\u001b[0;34m\u001b[0m\u001b[0m\n\u001b[1;32m     16\u001b[0m \u001b[0;34m\u001b[0m\u001b[0m\n",
      "\u001b[0;32m~/yes/lib/python3.7/site-packages/legogram-0.9.0-py3.7.egg/legogram/base.py\u001b[0m in \u001b[0;36mdecode\u001b[0;34m(self, code, partial)\u001b[0m\n\u001b[1;32m    131\u001b[0m         \u001b[0;32mfor\u001b[0m \u001b[0mi\u001b[0m \u001b[0;32min\u001b[0m \u001b[0mcode\u001b[0m\u001b[0;34m:\u001b[0m\u001b[0;34m\u001b[0m\u001b[0;34m\u001b[0m\u001b[0m\n\u001b[1;32m    132\u001b[0m             \u001b[0mrules\u001b[0m\u001b[0;34m.\u001b[0m\u001b[0mappend\u001b[0m\u001b[0;34m(\u001b[0m\u001b[0mself\u001b[0m\u001b[0;34m.\u001b[0m\u001b[0mrules\u001b[0m\u001b[0;34m[\u001b[0m\u001b[0mi\u001b[0m\u001b[0;34m]\u001b[0m\u001b[0;34m)\u001b[0m\u001b[0;34m\u001b[0m\u001b[0;34m\u001b[0m\u001b[0m\n\u001b[0;32m--> 133\u001b[0;31m         \u001b[0;32mreturn\u001b[0m \u001b[0mdecode\u001b[0m\u001b[0;34m(\u001b[0m\u001b[0mrules\u001b[0m\u001b[0;34m,\u001b[0m \u001b[0mpartial\u001b[0m\u001b[0;34m)\u001b[0m\u001b[0;34m\u001b[0m\u001b[0;34m\u001b[0m\u001b[0m\n\u001b[0m\u001b[1;32m    134\u001b[0m \u001b[0;34m\u001b[0m\u001b[0m\n\u001b[1;32m    135\u001b[0m     \u001b[0;32mdef\u001b[0m \u001b[0mcalc_compat\u001b[0m \u001b[0;34m(\u001b[0m\u001b[0mself\u001b[0m\u001b[0;34m)\u001b[0m\u001b[0;34m:\u001b[0m\u001b[0;34m\u001b[0m\u001b[0;34m\u001b[0m\u001b[0m\n",
      "\u001b[0;32m~/yes/lib/python3.7/site-packages/legogram-0.9.0-py3.7.egg/legogram/grammar.py\u001b[0m in \u001b[0;36mdecode\u001b[0;34m(rules, partial)\u001b[0m\n\u001b[1;32m    315\u001b[0m     \u001b[0mres\u001b[0m \u001b[0;34m=\u001b[0m \u001b[0mrules\u001b[0m\u001b[0;34m[\u001b[0m\u001b[0;36m0\u001b[0m\u001b[0;34m]\u001b[0m\u001b[0;34m\u001b[0m\u001b[0;34m\u001b[0m\u001b[0m\n\u001b[1;32m    316\u001b[0m     \u001b[0;32mfor\u001b[0m \u001b[0mrule\u001b[0m \u001b[0;32min\u001b[0m \u001b[0mrules\u001b[0m\u001b[0;34m[\u001b[0m\u001b[0;36m1\u001b[0m\u001b[0;34m:\u001b[0m\u001b[0;34m]\u001b[0m\u001b[0;34m:\u001b[0m\u001b[0;34m\u001b[0m\u001b[0;34m\u001b[0m\u001b[0m\n\u001b[0;32m--> 317\u001b[0;31m         \u001b[0mres\u001b[0m \u001b[0;34m=\u001b[0m \u001b[0mcombine_rules\u001b[0m\u001b[0;34m(\u001b[0m\u001b[0mres\u001b[0m\u001b[0;34m,\u001b[0m \u001b[0mrule\u001b[0m\u001b[0;34m)\u001b[0m\u001b[0;34m\u001b[0m\u001b[0;34m\u001b[0m\u001b[0m\n\u001b[0m\u001b[1;32m    318\u001b[0m     \u001b[0;32mif\u001b[0m \u001b[0;32mnot\u001b[0m \u001b[0mpartial\u001b[0m\u001b[0;34m:\u001b[0m\u001b[0;34m\u001b[0m\u001b[0;34m\u001b[0m\u001b[0m\n\u001b[1;32m    319\u001b[0m         \u001b[0;32mreturn\u001b[0m \u001b[0mChem\u001b[0m\u001b[0;34m.\u001b[0m\u001b[0mMolToSmiles\u001b[0m\u001b[0;34m(\u001b[0m\u001b[0mgraph2mol\u001b[0m\u001b[0;34m(\u001b[0m\u001b[0mres\u001b[0m\u001b[0;34m)\u001b[0m\u001b[0;34m)\u001b[0m\u001b[0;34m\u001b[0m\u001b[0;34m\u001b[0m\u001b[0m\n",
      "\u001b[0;32m~/yes/lib/python3.7/site-packages/legogram-0.9.0-py3.7.egg/legogram/grammar.py\u001b[0m in \u001b[0;36mcombine_rules\u001b[0;34m(r1, r2)\u001b[0m\n\u001b[1;32m    278\u001b[0m \u001b[0;34m\u001b[0m\u001b[0m\n\u001b[1;32m    279\u001b[0m     \u001b[0mnt_list\u001b[0m \u001b[0;34m=\u001b[0m \u001b[0mlist\u001b[0m\u001b[0;34m(\u001b[0m\u001b[0mfilter\u001b[0m\u001b[0;34m(\u001b[0m\u001b[0;32mlambda\u001b[0m \u001b[0mnt_id\u001b[0m\u001b[0;34m:\u001b[0m \u001b[0mnt_fingerprint\u001b[0m\u001b[0;34m(\u001b[0m\u001b[0mr1\u001b[0m\u001b[0;34m,\u001b[0m \u001b[0mnt_id\u001b[0m\u001b[0;34m)\u001b[0m \u001b[0;34m==\u001b[0m \u001b[0mincome\u001b[0m\u001b[0;34m,\u001b[0m \u001b[0mnt_list\u001b[0m\u001b[0;34m)\u001b[0m\u001b[0;34m)\u001b[0m\u001b[0;34m\u001b[0m\u001b[0;34m\u001b[0m\u001b[0m\n\u001b[0;32m--> 280\u001b[0;31m     \u001b[0mnt_id\u001b[0m \u001b[0;34m=\u001b[0m \u001b[0msorted\u001b[0m\u001b[0;34m(\u001b[0m\u001b[0mnt_list\u001b[0m\u001b[0;34m,\u001b[0m \u001b[0mkey\u001b[0m\u001b[0;34m=\u001b[0m\u001b[0;32mlambda\u001b[0m \u001b[0mx\u001b[0m\u001b[0;34m:\u001b[0m \u001b[0mx\u001b[0m\u001b[0;34m[\u001b[0m\u001b[0;34m'order'\u001b[0m\u001b[0;34m]\u001b[0m\u001b[0;34m)\u001b[0m\u001b[0;34m[\u001b[0m\u001b[0;36m0\u001b[0m\u001b[0;34m]\u001b[0m\u001b[0;34m.\u001b[0m\u001b[0mindex\u001b[0m\u001b[0;34m\u001b[0m\u001b[0;34m\u001b[0m\u001b[0m\n\u001b[0m\u001b[1;32m    281\u001b[0m     \u001b[0;31m# nt_id in r1 is vertex0 in r2. unite!\u001b[0m\u001b[0;34m\u001b[0m\u001b[0;34m\u001b[0m\u001b[0;34m\u001b[0m\u001b[0m\n\u001b[1;32m    282\u001b[0m     \u001b[0morig_order\u001b[0m \u001b[0;34m=\u001b[0m \u001b[0mr1\u001b[0m\u001b[0;34m.\u001b[0m\u001b[0mvs\u001b[0m\u001b[0;34m[\u001b[0m\u001b[0mnt_id\u001b[0m\u001b[0;34m]\u001b[0m\u001b[0;34m[\u001b[0m\u001b[0;34m'order'\u001b[0m\u001b[0;34m]\u001b[0m  \u001b[0;31m# dont overwrite nt order if entering a ring\u001b[0m\u001b[0;34m\u001b[0m\u001b[0;34m\u001b[0m\u001b[0m\n",
      "\u001b[0;31mIndexError\u001b[0m: list index out of range"
     ]
    }
   ],
   "source": [
    "dataset.model.decode(elem)"
   ]
  },
  {
   "cell_type": "code",
   "execution_count": 6,
   "metadata": {},
   "outputs": [
    {
     "data": {
      "text/plain": [
       "2974"
      ]
     },
     "execution_count": 6,
     "metadata": {},
     "output_type": "execute_result"
    }
   ],
   "source": [
    "dataset.model.decode()"
   ]
  },
  {
   "cell_type": "code",
   "execution_count": null,
   "metadata": {},
   "outputs": [],
   "source": []
  }
 ],
 "metadata": {
  "kernelspec": {
   "display_name": "Python 3",
   "language": "python",
   "name": "python3"
  },
  "language_info": {
   "codemirror_mode": {
    "name": "ipython",
    "version": 3
   },
   "file_extension": ".py",
   "mimetype": "text/x-python",
   "name": "python",
   "nbconvert_exporter": "python",
   "pygments_lexer": "ipython3",
   "version": "3.7.4"
  }
 },
 "nbformat": 4,
 "nbformat_minor": 4
}
