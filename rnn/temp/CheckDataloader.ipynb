{
 "cells": [
  {
   "cell_type": "code",
   "execution_count": 23,
   "metadata": {},
   "outputs": [],
   "source": [
    "import torch\n",
    "import yaml\n",
    "import argparse\n",
    "import torch\n",
    "import numpy as np\n",
    "from torch import nn, optim\n",
    "from torch.utils.data import DataLoader\n",
    "from tqdm import tqdm\n",
    "from model import RNN\n",
    "import pandas  as pd\n",
    "from providers import MolecularNotationDataset, SpecialTokenWrapperModel, SmilesModel, robust_standardizer\n",
    "from legogram import LegoGram\n",
    "from legogram.apps import LegoGramRNNSampler\n",
    "from torch.nn.utils.rnn import pad_sequence\n",
    "import os\n",
    "from torch.utils.tensorboard import SummaryWriter\n",
    "import json"
   ]
  },
  {
   "cell_type": "code",
   "execution_count": 2,
   "metadata": {},
   "outputs": [],
   "source": [
    "dataset = torch.load(\"lg.bin\")"
   ]
  },
  {
   "cell_type": "code",
   "execution_count": 37,
   "metadata": {},
   "outputs": [],
   "source": [
    "def collect(sequences):\n",
    "    mols = [elem[0] for elem in sequences]\n",
    "    endpoints = [elem[1] for elem in sequences]\n",
    "    mols = sorted(mols,key=len,reverse=True)\n",
    "    lengths = [seq.size(0) for seq in mols]\n",
    "    return pad_sequence(mols,batch_first=True), torch.stack(endpoints), lengths\n"
   ]
  },
  {
   "cell_type": "code",
   "execution_count": 38,
   "metadata": {},
   "outputs": [],
   "source": [
    "train_loader = DataLoader(dataset, batch_size=128, collate_fn=collect)"
   ]
  },
  {
   "cell_type": "code",
   "execution_count": 39,
   "metadata": {},
   "outputs": [],
   "source": [
    "l = list(train_loader)"
   ]
  },
  {
   "cell_type": "code",
   "execution_count": 40,
   "metadata": {},
   "outputs": [],
   "source": [
    "a = l[0]"
   ]
  },
  {
   "cell_type": "code",
   "execution_count": 41,
   "metadata": {
    "collapsed": true,
    "jupyter": {
     "outputs_hidden": true
    }
   },
   "outputs": [
    {
     "data": {
      "text/plain": [
       "tensor([[ 1, 36, 41,  ...,  3,  4,  2],\n",
       "        [ 1, 36, 41,  ...,  4,  2,  0],\n",
       "        [ 1, 10, 44,  ...,  3,  2,  0],\n",
       "        ...,\n",
       "        [ 1, 36, 41,  ...,  0,  0,  0],\n",
       "        [ 1, 10, 16,  ...,  0,  0,  0],\n",
       "        [ 1, 10,  8,  ...,  0,  0,  0]])"
      ]
     },
     "execution_count": 41,
     "metadata": {},
     "output_type": "execute_result"
    }
   ],
   "source": [
    "a[0]"
   ]
  },
  {
   "cell_type": "code",
   "execution_count": 42,
   "metadata": {
    "collapsed": true,
    "jupyter": {
     "outputs_hidden": true
    }
   },
   "outputs": [
    {
     "data": {
      "text/plain": [
       "tensor([[ 30, 277,  -2],\n",
       "        [ 60, 280,  -3],\n",
       "        [130, 345,  -4],\n",
       "        [140, 359,  -4],\n",
       "        [170, 340,  -2],\n",
       "        [140, 319,  -2],\n",
       "        [160, 357,  -4],\n",
       "        [180, 334,  -2],\n",
       "        [ 70, 269,  -2],\n",
       "        [190, 380,  -4],\n",
       "        [ 60, 274,  -3],\n",
       "        [160, 335,  -3],\n",
       "        [120, 281,  -2],\n",
       "        [ 40, 332,  -5],\n",
       "        [130, 350,  -3],\n",
       "        [ 70, 319,  -4],\n",
       "        [170, 342,  -3],\n",
       "        [ 60, 275,  -2],\n",
       "        [140, 356,  -3],\n",
       "        [120, 363,  -4],\n",
       "        [110, 336,  -3],\n",
       "        [ 70, 262,  -3],\n",
       "        [ 70, 277,  -2],\n",
       "        [140, 323,  -2],\n",
       "        [110, 304,  -3],\n",
       "        [120, 356,  -3],\n",
       "        [140, 305,  -3],\n",
       "        [120, 301,  -2],\n",
       "        [ 90, 327,  -3],\n",
       "        [120, 308,  -3],\n",
       "        [ 90, 328,  -3],\n",
       "        [ 90, 290,  -3],\n",
       "        [110, 285,  -3],\n",
       "        [120, 351,  -4],\n",
       "        [ 30, 273,  -3],\n",
       "        [100, 291,  -4],\n",
       "        [100, 340,  -4],\n",
       "        [110, 322,  -3],\n",
       "        [120, 292,  -4],\n",
       "        [100, 349,  -4],\n",
       "        [140, 321,  -3],\n",
       "        [150, 304,  -2],\n",
       "        [ 60, 292,  -2],\n",
       "        [110, 282,  -3],\n",
       "        [100, 301,  -4],\n",
       "        [100, 322,  -3],\n",
       "        [140, 312,  -3],\n",
       "        [120, 265,  -2],\n",
       "        [110, 300,  -2],\n",
       "        [130, 319,  -3],\n",
       "        [ 10, 264,  -3],\n",
       "        [110, 279,  -3],\n",
       "        [100, 298,  -3],\n",
       "        [ 70, 275,  -2],\n",
       "        [140, 319,  -3],\n",
       "        [180, 347,  -4],\n",
       "        [120, 333,  -3],\n",
       "        [ 50, 263,  -2],\n",
       "        [130, 342,  -3],\n",
       "        [ 80, 284,  -2],\n",
       "        [140, 312,  -3],\n",
       "        [150, 363,  -3],\n",
       "        [110, 315,  -3],\n",
       "        [160, 370,  -4],\n",
       "        [130, 299,  -4],\n",
       "        [140, 353,  -3],\n",
       "        [160, 359,  -4],\n",
       "        [100, 283,  -3],\n",
       "        [110, 277,  -3],\n",
       "        [ 40, 277,  -2],\n",
       "        [140, 307,  -3],\n",
       "        [110, 311,  -3],\n",
       "        [120, 340,  -3],\n",
       "        [100, 331,  -3],\n",
       "        [110, 323,  -3],\n",
       "        [ 70, 289,  -2],\n",
       "        [170, 319,  -3],\n",
       "        [100, 294,  -3],\n",
       "        [100, 337,  -4],\n",
       "        [140, 323,  -3],\n",
       "        [130, 308,  -3],\n",
       "        [130, 325,  -3],\n",
       "        [130, 301,  -2],\n",
       "        [ 40, 270,  -2],\n",
       "        [160, 324,  -2],\n",
       "        [120, 327,  -4],\n",
       "        [120, 307,  -3],\n",
       "        [120, 302,  -2],\n",
       "        [ 50, 284,  -2],\n",
       "        [100, 336,  -4],\n",
       "        [ 60, 273,  -4],\n",
       "        [ 80, 257,  -2],\n",
       "        [ 90, 323,  -3],\n",
       "        [110, 326,  -4],\n",
       "        [ 70, 290,  -3],\n",
       "        [150, 348,  -4],\n",
       "        [140, 319,  -3],\n",
       "        [120, 298,  -3],\n",
       "        [ 90, 311,  -3],\n",
       "        [ 40, 290,  -2],\n",
       "        [ 90, 334,  -3],\n",
       "        [170, 330,  -3],\n",
       "        [150, 295,  -3],\n",
       "        [180, 369,  -4],\n",
       "        [120, 322,  -3],\n",
       "        [100, 306,  -3],\n",
       "        [130, 319,  -3],\n",
       "        [100, 296,  -3],\n",
       "        [110, 306,  -3],\n",
       "        [100, 304,  -4],\n",
       "        [200, 366,  -2],\n",
       "        [100, 284,  -3],\n",
       "        [110, 359,  -4],\n",
       "        [100, 298,  -3],\n",
       "        [110, 306,  -3],\n",
       "        [ 60, 285,  -2],\n",
       "        [110, 355,  -4],\n",
       "        [120, 315,  -2],\n",
       "        [ 90, 302,  -3],\n",
       "        [100, 340,  -3],\n",
       "        [ 60, 266,  -3],\n",
       "        [100, 322,  -3],\n",
       "        [100, 330,  -4],\n",
       "        [110, 291,  -3],\n",
       "        [ 90, 327,  -3],\n",
       "        [110, 314,  -2],\n",
       "        [160, 370,  -4],\n",
       "        [120, 314,  -2]])"
      ]
     },
     "execution_count": 42,
     "metadata": {},
     "output_type": "execute_result"
    }
   ],
   "source": [
    "a[1]"
   ]
  },
  {
   "cell_type": "code",
   "execution_count": 43,
   "metadata": {
    "collapsed": true,
    "jupyter": {
     "outputs_hidden": true
    }
   },
   "outputs": [
    {
     "data": {
      "text/plain": [
       "[39,\n",
       " 38,\n",
       " 38,\n",
       " 37,\n",
       " 35,\n",
       " 34,\n",
       " 34,\n",
       " 34,\n",
       " 34,\n",
       " 34,\n",
       " 34,\n",
       " 33,\n",
       " 33,\n",
       " 33,\n",
       " 33,\n",
       " 33,\n",
       " 32,\n",
       " 32,\n",
       " 32,\n",
       " 32,\n",
       " 32,\n",
       " 32,\n",
       " 32,\n",
       " 31,\n",
       " 31,\n",
       " 31,\n",
       " 31,\n",
       " 31,\n",
       " 31,\n",
       " 31,\n",
       " 31,\n",
       " 31,\n",
       " 31,\n",
       " 31,\n",
       " 30,\n",
       " 30,\n",
       " 30,\n",
       " 30,\n",
       " 30,\n",
       " 29,\n",
       " 29,\n",
       " 29,\n",
       " 29,\n",
       " 29,\n",
       " 29,\n",
       " 29,\n",
       " 29,\n",
       " 29,\n",
       " 28,\n",
       " 28,\n",
       " 28,\n",
       " 28,\n",
       " 28,\n",
       " 28,\n",
       " 28,\n",
       " 28,\n",
       " 28,\n",
       " 28,\n",
       " 27,\n",
       " 27,\n",
       " 27,\n",
       " 27,\n",
       " 27,\n",
       " 27,\n",
       " 27,\n",
       " 27,\n",
       " 27,\n",
       " 27,\n",
       " 27,\n",
       " 27,\n",
       " 27,\n",
       " 27,\n",
       " 27,\n",
       " 27,\n",
       " 27,\n",
       " 26,\n",
       " 26,\n",
       " 26,\n",
       " 26,\n",
       " 26,\n",
       " 25,\n",
       " 25,\n",
       " 25,\n",
       " 25,\n",
       " 25,\n",
       " 25,\n",
       " 25,\n",
       " 25,\n",
       " 25,\n",
       " 25,\n",
       " 25,\n",
       " 25,\n",
       " 25,\n",
       " 25,\n",
       " 24,\n",
       " 24,\n",
       " 24,\n",
       " 24,\n",
       " 24,\n",
       " 24,\n",
       " 24,\n",
       " 24,\n",
       " 24,\n",
       " 23,\n",
       " 23,\n",
       " 23,\n",
       " 23,\n",
       " 23,\n",
       " 22,\n",
       " 22,\n",
       " 22,\n",
       " 21,\n",
       " 21,\n",
       " 21,\n",
       " 20,\n",
       " 20,\n",
       " 20,\n",
       " 20,\n",
       " 20,\n",
       " 20,\n",
       " 19,\n",
       " 19,\n",
       " 19,\n",
       " 18,\n",
       " 18,\n",
       " 17,\n",
       " 16,\n",
       " 12]"
      ]
     },
     "execution_count": 43,
     "metadata": {},
     "output_type": "execute_result"
    }
   ],
   "source": [
    "a = "
   ]
  },
  {
   "cell_type": "code",
   "execution_count": null,
   "metadata": {},
   "outputs": [],
   "source": []
  },
  {
   "cell_type": "code",
   "execution_count": 36,
   "metadata": {
    "collapsed": true,
    "jupyter": {
     "outputs_hidden": true
    }
   },
   "outputs": [
    {
     "data": {
      "text/plain": [
       "tensor([[ 30, 277,  -2],\n",
       "        [ 60, 280,  -3],\n",
       "        [130, 345,  -4],\n",
       "        [140, 359,  -4],\n",
       "        [170, 340,  -2],\n",
       "        [140, 319,  -2],\n",
       "        [160, 357,  -4],\n",
       "        [180, 334,  -2],\n",
       "        [ 70, 269,  -2],\n",
       "        [190, 380,  -4],\n",
       "        [ 60, 274,  -3],\n",
       "        [160, 335,  -3],\n",
       "        [120, 281,  -2],\n",
       "        [ 40, 332,  -5],\n",
       "        [130, 350,  -3],\n",
       "        [ 70, 319,  -4],\n",
       "        [170, 342,  -3],\n",
       "        [ 60, 275,  -2],\n",
       "        [140, 356,  -3],\n",
       "        [120, 363,  -4],\n",
       "        [110, 336,  -3],\n",
       "        [ 70, 262,  -3],\n",
       "        [ 70, 277,  -2],\n",
       "        [140, 323,  -2],\n",
       "        [110, 304,  -3],\n",
       "        [120, 356,  -3],\n",
       "        [140, 305,  -3],\n",
       "        [120, 301,  -2],\n",
       "        [ 90, 327,  -3],\n",
       "        [120, 308,  -3],\n",
       "        [ 90, 328,  -3],\n",
       "        [ 90, 290,  -3],\n",
       "        [110, 285,  -3],\n",
       "        [120, 351,  -4],\n",
       "        [ 30, 273,  -3],\n",
       "        [100, 291,  -4],\n",
       "        [100, 340,  -4],\n",
       "        [110, 322,  -3],\n",
       "        [120, 292,  -4],\n",
       "        [100, 349,  -4],\n",
       "        [140, 321,  -3],\n",
       "        [150, 304,  -2],\n",
       "        [ 60, 292,  -2],\n",
       "        [110, 282,  -3],\n",
       "        [100, 301,  -4],\n",
       "        [100, 322,  -3],\n",
       "        [140, 312,  -3],\n",
       "        [120, 265,  -2],\n",
       "        [110, 300,  -2],\n",
       "        [130, 319,  -3],\n",
       "        [ 10, 264,  -3],\n",
       "        [110, 279,  -3],\n",
       "        [100, 298,  -3],\n",
       "        [ 70, 275,  -2],\n",
       "        [140, 319,  -3],\n",
       "        [180, 347,  -4],\n",
       "        [120, 333,  -3],\n",
       "        [ 50, 263,  -2],\n",
       "        [130, 342,  -3],\n",
       "        [ 80, 284,  -2],\n",
       "        [140, 312,  -3],\n",
       "        [150, 363,  -3],\n",
       "        [110, 315,  -3],\n",
       "        [160, 370,  -4],\n",
       "        [130, 299,  -4],\n",
       "        [140, 353,  -3],\n",
       "        [160, 359,  -4],\n",
       "        [100, 283,  -3],\n",
       "        [110, 277,  -3],\n",
       "        [ 40, 277,  -2],\n",
       "        [140, 307,  -3],\n",
       "        [110, 311,  -3],\n",
       "        [120, 340,  -3],\n",
       "        [100, 331,  -3],\n",
       "        [110, 323,  -3],\n",
       "        [ 70, 289,  -2],\n",
       "        [170, 319,  -3],\n",
       "        [100, 294,  -3],\n",
       "        [100, 337,  -4],\n",
       "        [140, 323,  -3],\n",
       "        [130, 308,  -3],\n",
       "        [130, 325,  -3],\n",
       "        [130, 301,  -2],\n",
       "        [ 40, 270,  -2],\n",
       "        [160, 324,  -2],\n",
       "        [120, 327,  -4],\n",
       "        [120, 307,  -3],\n",
       "        [120, 302,  -2],\n",
       "        [ 50, 284,  -2],\n",
       "        [100, 336,  -4],\n",
       "        [ 60, 273,  -4],\n",
       "        [ 80, 257,  -2],\n",
       "        [ 90, 323,  -3],\n",
       "        [110, 326,  -4],\n",
       "        [ 70, 290,  -3],\n",
       "        [150, 348,  -4],\n",
       "        [140, 319,  -3],\n",
       "        [120, 298,  -3],\n",
       "        [ 90, 311,  -3],\n",
       "        [ 40, 290,  -2],\n",
       "        [ 90, 334,  -3],\n",
       "        [170, 330,  -3],\n",
       "        [150, 295,  -3],\n",
       "        [180, 369,  -4],\n",
       "        [120, 322,  -3],\n",
       "        [100, 306,  -3],\n",
       "        [130, 319,  -3],\n",
       "        [100, 296,  -3],\n",
       "        [110, 306,  -3],\n",
       "        [100, 304,  -4],\n",
       "        [200, 366,  -2],\n",
       "        [100, 284,  -3],\n",
       "        [110, 359,  -4],\n",
       "        [100, 298,  -3],\n",
       "        [110, 306,  -3],\n",
       "        [ 60, 285,  -2],\n",
       "        [110, 355,  -4],\n",
       "        [120, 315,  -2],\n",
       "        [ 90, 302,  -3],\n",
       "        [100, 340,  -3],\n",
       "        [ 60, 266,  -3],\n",
       "        [100, 322,  -3],\n",
       "        [100, 330,  -4],\n",
       "        [110, 291,  -3],\n",
       "        [ 90, 327,  -3],\n",
       "        [110, 314,  -2],\n",
       "        [160, 370,  -4],\n",
       "        [120, 314,  -2]])"
      ]
     },
     "execution_count": 36,
     "metadata": {},
     "output_type": "execute_result"
    }
   ],
   "source": [
    "torch.stack(a[1])"
   ]
  },
  {
   "cell_type": "code",
   "execution_count": 35,
   "metadata": {
    "collapsed": true,
    "jupyter": {
     "outputs_hidden": true
    }
   },
   "outputs": [
    {
     "data": {
      "text/plain": [
       "[tensor([ 30, 277,  -2]),\n",
       " tensor([ 60, 280,  -3]),\n",
       " tensor([130, 345,  -4]),\n",
       " tensor([140, 359,  -4]),\n",
       " tensor([170, 340,  -2]),\n",
       " tensor([140, 319,  -2]),\n",
       " tensor([160, 357,  -4]),\n",
       " tensor([180, 334,  -2]),\n",
       " tensor([ 70, 269,  -2]),\n",
       " tensor([190, 380,  -4]),\n",
       " tensor([ 60, 274,  -3]),\n",
       " tensor([160, 335,  -3]),\n",
       " tensor([120, 281,  -2]),\n",
       " tensor([ 40, 332,  -5]),\n",
       " tensor([130, 350,  -3]),\n",
       " tensor([ 70, 319,  -4]),\n",
       " tensor([170, 342,  -3]),\n",
       " tensor([ 60, 275,  -2]),\n",
       " tensor([140, 356,  -3]),\n",
       " tensor([120, 363,  -4]),\n",
       " tensor([110, 336,  -3]),\n",
       " tensor([ 70, 262,  -3]),\n",
       " tensor([ 70, 277,  -2]),\n",
       " tensor([140, 323,  -2]),\n",
       " tensor([110, 304,  -3]),\n",
       " tensor([120, 356,  -3]),\n",
       " tensor([140, 305,  -3]),\n",
       " tensor([120, 301,  -2]),\n",
       " tensor([ 90, 327,  -3]),\n",
       " tensor([120, 308,  -3]),\n",
       " tensor([ 90, 328,  -3]),\n",
       " tensor([ 90, 290,  -3]),\n",
       " tensor([110, 285,  -3]),\n",
       " tensor([120, 351,  -4]),\n",
       " tensor([ 30, 273,  -3]),\n",
       " tensor([100, 291,  -4]),\n",
       " tensor([100, 340,  -4]),\n",
       " tensor([110, 322,  -3]),\n",
       " tensor([120, 292,  -4]),\n",
       " tensor([100, 349,  -4]),\n",
       " tensor([140, 321,  -3]),\n",
       " tensor([150, 304,  -2]),\n",
       " tensor([ 60, 292,  -2]),\n",
       " tensor([110, 282,  -3]),\n",
       " tensor([100, 301,  -4]),\n",
       " tensor([100, 322,  -3]),\n",
       " tensor([140, 312,  -3]),\n",
       " tensor([120, 265,  -2]),\n",
       " tensor([110, 300,  -2]),\n",
       " tensor([130, 319,  -3]),\n",
       " tensor([ 10, 264,  -3]),\n",
       " tensor([110, 279,  -3]),\n",
       " tensor([100, 298,  -3]),\n",
       " tensor([ 70, 275,  -2]),\n",
       " tensor([140, 319,  -3]),\n",
       " tensor([180, 347,  -4]),\n",
       " tensor([120, 333,  -3]),\n",
       " tensor([ 50, 263,  -2]),\n",
       " tensor([130, 342,  -3]),\n",
       " tensor([ 80, 284,  -2]),\n",
       " tensor([140, 312,  -3]),\n",
       " tensor([150, 363,  -3]),\n",
       " tensor([110, 315,  -3]),\n",
       " tensor([160, 370,  -4]),\n",
       " tensor([130, 299,  -4]),\n",
       " tensor([140, 353,  -3]),\n",
       " tensor([160, 359,  -4]),\n",
       " tensor([100, 283,  -3]),\n",
       " tensor([110, 277,  -3]),\n",
       " tensor([ 40, 277,  -2]),\n",
       " tensor([140, 307,  -3]),\n",
       " tensor([110, 311,  -3]),\n",
       " tensor([120, 340,  -3]),\n",
       " tensor([100, 331,  -3]),\n",
       " tensor([110, 323,  -3]),\n",
       " tensor([ 70, 289,  -2]),\n",
       " tensor([170, 319,  -3]),\n",
       " tensor([100, 294,  -3]),\n",
       " tensor([100, 337,  -4]),\n",
       " tensor([140, 323,  -3]),\n",
       " tensor([130, 308,  -3]),\n",
       " tensor([130, 325,  -3]),\n",
       " tensor([130, 301,  -2]),\n",
       " tensor([ 40, 270,  -2]),\n",
       " tensor([160, 324,  -2]),\n",
       " tensor([120, 327,  -4]),\n",
       " tensor([120, 307,  -3]),\n",
       " tensor([120, 302,  -2]),\n",
       " tensor([ 50, 284,  -2]),\n",
       " tensor([100, 336,  -4]),\n",
       " tensor([ 60, 273,  -4]),\n",
       " tensor([ 80, 257,  -2]),\n",
       " tensor([ 90, 323,  -3]),\n",
       " tensor([110, 326,  -4]),\n",
       " tensor([ 70, 290,  -3]),\n",
       " tensor([150, 348,  -4]),\n",
       " tensor([140, 319,  -3]),\n",
       " tensor([120, 298,  -3]),\n",
       " tensor([ 90, 311,  -3]),\n",
       " tensor([ 40, 290,  -2]),\n",
       " tensor([ 90, 334,  -3]),\n",
       " tensor([170, 330,  -3]),\n",
       " tensor([150, 295,  -3]),\n",
       " tensor([180, 369,  -4]),\n",
       " tensor([120, 322,  -3]),\n",
       " tensor([100, 306,  -3]),\n",
       " tensor([130, 319,  -3]),\n",
       " tensor([100, 296,  -3]),\n",
       " tensor([110, 306,  -3]),\n",
       " tensor([100, 304,  -4]),\n",
       " tensor([200, 366,  -2]),\n",
       " tensor([100, 284,  -3]),\n",
       " tensor([110, 359,  -4]),\n",
       " tensor([100, 298,  -3]),\n",
       " tensor([110, 306,  -3]),\n",
       " tensor([ 60, 285,  -2]),\n",
       " tensor([110, 355,  -4]),\n",
       " tensor([120, 315,  -2]),\n",
       " tensor([ 90, 302,  -3]),\n",
       " tensor([100, 340,  -3]),\n",
       " tensor([ 60, 266,  -3]),\n",
       " tensor([100, 322,  -3]),\n",
       " tensor([100, 330,  -4]),\n",
       " tensor([110, 291,  -3]),\n",
       " tensor([ 90, 327,  -3]),\n",
       " tensor([110, 314,  -2]),\n",
       " tensor([160, 370,  -4]),\n",
       " tensor([120, 314,  -2])]"
      ]
     },
     "execution_count": 35,
     "metadata": {},
     "output_type": "execute_result"
    }
   ],
   "source": [
    "a[1]"
   ]
  },
  {
   "cell_type": "code",
   "execution_count": 47,
   "metadata": {},
   "outputs": [],
   "source": [
    "a = torch.randn((512,512))"
   ]
  },
  {
   "cell_type": "code",
   "execution_count": 48,
   "metadata": {},
   "outputs": [],
   "source": [
    "a = a.repeat(3,1,1)"
   ]
  },
  {
   "cell_type": "code",
   "execution_count": 49,
   "metadata": {},
   "outputs": [
    {
     "data": {
      "text/plain": [
       "torch.Size([3, 512, 512])"
      ]
     },
     "execution_count": 49,
     "metadata": {},
     "output_type": "execute_result"
    }
   ],
   "source": [
    "a.shape"
   ]
  },
  {
   "cell_type": "code",
   "execution_count": 59,
   "metadata": {},
   "outputs": [
    {
     "data": {
      "text/plain": [
       "torch.Size([2, 3])"
      ]
     },
     "execution_count": 59,
     "metadata": {},
     "output_type": "execute_result"
    }
   ],
   "source": [
    "torch.stack([dataset[0][1], dataset[1][1]]).shape"
   ]
  },
  {
   "cell_type": "code",
   "execution_count": null,
   "metadata": {},
   "outputs": [],
   "source": []
  },
  {
   "cell_type": "code",
   "execution_count": 60,
   "metadata": {},
   "outputs": [],
   "source": [
    "endp = torch.tensor([30, 277,  -2])"
   ]
  },
  {
   "cell_type": "code",
   "execution_count": 63,
   "metadata": {},
   "outputs": [],
   "source": [
    "endp = endp.unsqueeze(0)"
   ]
  },
  {
   "cell_type": "code",
   "execution_count": 66,
   "metadata": {},
   "outputs": [
    {
     "data": {
      "text/plain": [
       "torch.Size([100, 3])"
      ]
     },
     "execution_count": 66,
     "metadata": {},
     "output_type": "execute_result"
    }
   ],
   "source": [
    "endp.repeat(100, 1).shape"
   ]
  },
  {
   "cell_type": "code",
   "execution_count": null,
   "metadata": {},
   "outputs": [],
   "source": []
  },
  {
   "cell_type": "code",
   "execution_count": null,
   "metadata": {},
   "outputs": [],
   "source": []
  },
  {
   "cell_type": "code",
   "execution_count": 56,
   "metadata": {},
   "outputs": [
    {
     "data": {
      "text/plain": [
       "torch.Size([100, 100, 300])"
      ]
     },
     "execution_count": 56,
     "metadata": {},
     "output_type": "execute_result"
    }
   ],
   "source": [
    "endp.repeat(100,100,100).shape"
   ]
  },
  {
   "cell_type": "code",
   "execution_count": 57,
   "metadata": {},
   "outputs": [
    {
     "data": {
      "text/plain": [
       "torch.Size([3])"
      ]
     },
     "execution_count": 57,
     "metadata": {},
     "output_type": "execute_result"
    }
   ],
   "source": [
    "endp.shape"
   ]
  },
  {
   "cell_type": "code",
   "execution_count": null,
   "metadata": {},
   "outputs": [],
   "source": []
  }
 ],
 "metadata": {
  "kernelspec": {
   "display_name": "Python 3",
   "language": "python",
   "name": "python3"
  },
  "language_info": {
   "codemirror_mode": {
    "name": "ipython",
    "version": 3
   },
   "file_extension": ".py",
   "mimetype": "text/x-python",
   "name": "python",
   "nbconvert_exporter": "python",
   "pygments_lexer": "ipython3",
   "version": "3.7.4"
  }
 },
 "nbformat": 4,
 "nbformat_minor": 4
}
